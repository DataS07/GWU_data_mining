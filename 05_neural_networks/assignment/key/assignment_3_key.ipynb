{
 "cells": [
  {
   "cell_type": "code",
   "execution_count": 1,
   "metadata": {},
   "outputs": [],
   "source": [
    "import pandas as pd"
   ]
  },
  {
   "cell_type": "code",
   "execution_count": 2,
   "metadata": {},
   "outputs": [],
   "source": [
    "# set measurement levels\n",
    "col_types = {'chain': 'object',\n",
    "             'offer': 'object',\n",
    "             'market': 'object',\n",
    "             'category': 'object',\n",
    "             'company': 'object',\n",
    "             'brand': 'object',\n",
    "             'exact_item_bought': 'object'}"
   ]
  },
  {
   "cell_type": "code",
   "execution_count": 3,
   "metadata": {},
   "outputs": [],
   "source": [
    "# read data created from SAS key\n",
    "data_pd = pd.read_csv('/home/patrickh/workspace/GWU_data_mining/01_basic_data_prep/assignment/key/assignment_1_key_train_sas.csv', dtype=col_types)\n",
    "score_pd = pd.read_csv('/home/patrickh/workspace/GWU_data_mining/01_basic_data_prep/assignment/key/assignment_1_key_test_sas.csv', dtype=col_types)"
   ]
  },
  {
   "cell_type": "code",
   "execution_count": 4,
   "metadata": {},
   "outputs": [
    {
     "data": {
      "text/plain": [
       "(160057, 14)"
      ]
     },
     "execution_count": 4,
     "metadata": {},
     "output_type": "execute_result"
    }
   ],
   "source": [
    "# confirm shape\n",
    "data_pd.shape"
   ]
  },
  {
   "cell_type": "code",
   "execution_count": 5,
   "metadata": {},
   "outputs": [
    {
     "data": {
      "text/plain": [
       "(151484, 13)"
      ]
     },
     "execution_count": 5,
     "metadata": {},
     "output_type": "execute_result"
    }
   ],
   "source": [
    "# confirm shape\n",
    "score_pd.shape"
   ]
  },
  {
   "cell_type": "code",
   "execution_count": 6,
   "metadata": {},
   "outputs": [],
   "source": [
    "# data['chain'].unique().shape    # 130 levels\n",
    "# data['market'].unique().shape   # 34 levels\n",
    "# data['category'].unique().shape # 13 levels\n",
    "# data['brand'].unique().shape    # 12 levels\n",
    "# data['company'].unique().shape  # 11 levels"
   ]
  },
  {
   "cell_type": "code",
   "execution_count": 7,
   "metadata": {},
   "outputs": [
    {
     "data": {
      "text/plain": [
       "Index(['id', 'chain', 'offer', 'market', 'repeater', 'offerdate', 'category',\n",
       "       'quantity', 'company', 'offervalue', 'brand', 'avg_category_quantity',\n",
       "       'avg_category_amount', 'exact_item_bought'],\n",
       "      dtype='object')"
      ]
     },
     "execution_count": 7,
     "metadata": {},
     "output_type": "execute_result"
    }
   ],
   "source": [
    "# show column names\n",
    "data_pd.columns"
   ]
  },
  {
   "cell_type": "code",
   "execution_count": 8,
   "metadata": {},
   "outputs": [],
   "source": [
    "# ensure repeater==t is modeled as 1\n",
    "data_pd.loc[data_pd['repeater'] == 't', 'repeater'] = 1\n",
    "data_pd.loc[data_pd['repeater'] == 'f', 'repeater'] = 0"
   ]
  },
  {
   "cell_type": "code",
   "execution_count": 9,
   "metadata": {},
   "outputs": [
    {
     "name": "stdout",
     "output_type": "stream",
     "text": [
      "['230', '369', '9', '284', '421', '370', '387']\n",
      "['10', '100', '101', '104', '106', '108', '109', '115', '116', '12', '122', '126', '133', '134', '14', '140', '143', '15', '151', '152', '153', '16', '161', '163', '165', '166', '169', '17', '18', '180', '184', '187', '191', '192', '2', '20', '205', '206', '21', '211', '214', '215', '217', '224', '23', '233', '24', '240', '241', '246', '26', '278', '285', '293', '3', '304', '306', '307', '31', '313', '356', '360', '362', '368', '373', '376', '377', '384', '386', '388', '389', '390', '391', '392', '393', '394', '395', '396', '397', '398', '399', '4', '40', '400', '401', '402', '403', '404', '405', '42', '422', '424', '431', '46', '48', '507', '508', '509', '510', '520', '521', '522', '523', '524', '525', '526', '58', '6', '62', '63', '64', '65', '68', '69', '70', '71', '73', '77', '8', '81', '83', '85', '88', '89', '95', '96', '98', 'unknown']\n",
      "128\n",
      "['10', '100', '101', '104', '106', '108', '109', '115', '116', '12', '122', '126', '133', '134', '14', '140', '143', '15', '151', '152', '153', '16', '161', '163', '165', '166', '169', '17', '18', '180', '184', '187', '191', '192', '2', '20', '205', '206', '21', '211', '214', '215', '217', '224', '23', '233', '24', '240', '241', '246', '26', '278', '285', '293', '3', '304', '306', '307', '31', '313', '356', '360', '362', '368', '373', '376', '377', '384', '386', '388', '389', '390', '391', '392', '393', '394', '395', '396', '397', '398', '399', '4', '40', '400', '401', '402', '403', '404', '405', '42', '422', '424', '431', '46', '48', '507', '508', '509', '510', '520', '521', '522', '523', '524', '525', '526', '58', '6', '62', '63', '64', '65', '68', '69', '70', '71', '73', '77', '8', '81', '83', '85', '88', '89', '95', '96', '98', 'unknown']\n",
      "128\n"
     ]
    }
   ],
   "source": [
    "# fix unknown values in train and test\n",
    "chain_unknowns =\\\n",
    "list(set(data_pd['chain'].unique()) - set(score_pd['chain'].unique())) +\\\n",
    "list(set(score_pd['chain'].unique()) - set(data_pd['chain'].unique()))\n",
    "    \n",
    "print(chain_unknowns)     \n",
    "\n",
    "data_pd.loc[data_pd['chain'].isin(chain_unknowns), 'chain'] = 'unknown'\n",
    "score_pd.loc[score_pd['chain'].isin(chain_unknowns), 'chain'] = 'unknown'\n",
    "     \n",
    "print(sorted(data_pd['chain'].unique()))\n",
    "print(len(data_pd['chain'].unique()))\n",
    "print(sorted(score_pd['chain'].unique()))\n",
    "print(len(score_pd['chain'].unique()))      "
   ]
  },
  {
   "cell_type": "code",
   "execution_count": 10,
   "metadata": {},
   "outputs": [
    {
     "name": "stdout",
     "output_type": "stream",
     "text": [
      "[]\n",
      "['1', '10', '11', '12', '14', '15', '16', '17', '18', '2', '20', '21', '22', '23', '24', '26', '27', '28', '33', '34', '35', '37', '39', '4', '43', '45', '47', '5', '6', '7', '8', '9', '93', '96']\n",
      "34\n",
      "['1', '10', '11', '12', '14', '15', '16', '17', '18', '2', '20', '21', '22', '23', '24', '26', '27', '28', '33', '34', '35', '37', '39', '4', '43', '45', '47', '5', '6', '7', '8', '9', '93', '96']\n",
      "34\n"
     ]
    }
   ],
   "source": [
    "# fix unknown values in train and test\n",
    "market_unknowns =\\\n",
    "list(set(data_pd['market'].unique()) - set(score_pd['market'].unique())) +\\\n",
    "list(set(score_pd['market'].unique()) - set(data_pd['market'].unique()))\n",
    "    \n",
    "print(market_unknowns)     \n",
    "     \n",
    "print(sorted(data_pd['market'].unique()))\n",
    "print(len(data_pd['market'].unique()))\n",
    "print(sorted(score_pd['market'].unique()))\n",
    "print(len(score_pd['market'].unique()))      "
   ]
  },
  {
   "cell_type": "code",
   "execution_count": 11,
   "metadata": {},
   "outputs": [
    {
     "name": "stdout",
     "output_type": "stream",
     "text": [
      "['3509', '1703', '3203', '9909', '4401', '5122', '7205', '706', '5824', '4517', '799', '9115']\n",
      "['1726', '2119', '2202', '3504', '5558', '5616', '5619', '6202', 'unknown']\n",
      "9\n",
      "['1726', '2119', '2202', '3504', '5558', '5616', '5619', '6202', 'unknown']\n",
      "9\n"
     ]
    }
   ],
   "source": [
    "# fix unknown values in train and test\n",
    "category_unknowns =\\\n",
    "list(set(data_pd['category'].unique()) - set(score_pd['category'].unique())) +\\\n",
    "list(set(score_pd['category'].unique()) - set(data_pd['category'].unique()))\n",
    "    \n",
    "print(category_unknowns)     \n",
    "\n",
    "data_pd.loc[data_pd['category'].isin(category_unknowns), 'category'] = 'unknown'\n",
    "score_pd.loc[score_pd['category'].isin(category_unknowns), 'category'] = 'unknown'\n",
    "     \n",
    "print(sorted(data_pd['category'].unique()))\n",
    "print(len(data_pd['category'].unique()))\n",
    "print(sorted(score_pd['category'].unique()))\n",
    "print(len(score_pd['category'].unique()))    "
   ]
  },
  {
   "cell_type": "code",
   "execution_count": 12,
   "metadata": {},
   "outputs": [
    {
     "name": "stdout",
     "output_type": "stream",
     "text": [
      "['6732', '13474', '13791', '875', '28840', '1322', '26456', '17286', '4294', '17311', '26189', '93904']\n",
      "['102504', '15889', '3718', '5072', '64486', '6926', '7668', 'unknown']\n",
      "8\n",
      "['102504', '15889', '3718', '5072', '64486', '6926', '7668', 'unknown']\n",
      "8\n"
     ]
    }
   ],
   "source": [
    "# fix unknown values in train and test\n",
    "brand_unknowns =\\\n",
    "list(set(data_pd['brand'].unique()) - set(score_pd['brand'].unique())) +\\\n",
    "list(set(score_pd['brand'].unique()) - set(data_pd['brand'].unique()))\n",
    "    \n",
    "print(brand_unknowns)     \n",
    "\n",
    "data_pd.loc[data_pd['brand'].isin(brand_unknowns), 'brand'] = 'unknown'\n",
    "score_pd.loc[score_pd['brand'].isin(brand_unknowns), 'brand'] = 'unknown'\n",
    "     \n",
    "print(sorted(data_pd['brand'].unique()))\n",
    "print(len(data_pd['brand'].unique()))\n",
    "print(sorted(score_pd['brand'].unique()))\n",
    "print(len(score_pd['brand'].unique()))"
   ]
  },
  {
   "cell_type": "code",
   "execution_count": 13,
   "metadata": {},
   "outputs": [
    {
     "name": "stdout",
     "output_type": "stream",
     "text": [
      "['107127979', '1089520383', '105100050', '103320030', '106414464', '108500080', '107106878', '105190050', '105450050', '1076211171', '103700030', '104127141']\n",
      "['104460040', '104610040', '107120272', '107717272', '108079383', '1087744888', 'unknown']\n",
      "7\n",
      "['104460040', '104610040', '107120272', '107717272', '108079383', '1087744888', 'unknown']\n",
      "7\n"
     ]
    }
   ],
   "source": [
    "# fix unknown values in train and test\n",
    "company_unknowns =\\\n",
    "list(set(data_pd['company'].unique()) - set(score_pd['company'].unique())) +\\\n",
    "list(set(score_pd['company'].unique()) - set(data_pd['company'].unique()))\n",
    "    \n",
    "print(company_unknowns)     \n",
    "     \n",
    "data_pd.loc[data_pd['company'].isin(company_unknowns), 'company'] = 'unknown'\n",
    "score_pd.loc[score_pd['company'].isin(company_unknowns), 'company'] = 'unknown'    \n",
    "    \n",
    "print(sorted(data_pd['company'].unique()))\n",
    "print(len(data_pd['company'].unique()))\n",
    "print(sorted(score_pd['company'].unique()))\n",
    "print(len(score_pd['company'].unique()))"
   ]
  },
  {
   "cell_type": "code",
   "execution_count": 14,
   "metadata": {},
   "outputs": [
    {
     "name": "stdout",
     "output_type": "stream",
     "text": [
      "['1197502', '1200988', '1199258', '1199256', '1203052', '1194044', '1200579', '1200578', '1220502', '1221666', '1219900', '1221665', '1219903', '1221667', '1203439', '1221658', '1220503', '1221663', '1230218', '1190530', '1213242']\n",
      "['1198271', '1198272', '1198273', '1198274', '1198275', '1200581', '1200582', '1200584', '1204576', '1204821', '1204822', '1208251', '1208252', '1208329', '1208501', '1208503', 'unknown']\n",
      "17\n",
      "['1198271', '1198272', '1198273', '1198274', '1198275', '1200581', '1200582', '1200584', '1204576', '1204821', '1204822', '1208251', '1208252', '1208329', '1208501', '1208503', 'unknown']\n",
      "17\n"
     ]
    }
   ],
   "source": [
    "# fix unknown values in train and test\n",
    "offer_unknowns =\\\n",
    "list(set(data_pd['offer'].unique()) - set(score_pd['offer'].unique())) +\\\n",
    "list(set(score_pd['offer'].unique()) - set(data_pd['offer'].unique()))\n",
    "    \n",
    "print(offer_unknowns)     \n",
    "\n",
    "data_pd.loc[data_pd['offer'].isin(offer_unknowns), 'offer'] = 'unknown'\n",
    "score_pd.loc[score_pd['offer'].isin(offer_unknowns), 'offer'] = 'unknown'    \n",
    "    \n",
    "print(sorted(data_pd['offer'].unique()))\n",
    "print(len(data_pd['offer'].unique()))\n",
    "print(sorted(score_pd['offer'].unique()))\n",
    "print(len(score_pd['offer'].unique()))"
   ]
  },
  {
   "cell_type": "code",
   "execution_count": 15,
   "metadata": {},
   "outputs": [
    {
     "name": "stdout",
     "output_type": "stream",
     "text": [
      "Checking whether there is an H2O instance running at http://localhost:54321..... not found.\n",
      "Attempting to start a local H2O server...\n",
      "  Java Version: java version \"1.8.0_201\"; Java(TM) SE Runtime Environment (build 1.8.0_201-b09); Java HotSpot(TM) 64-Bit Server VM (build 25.201-b09, mixed mode)\n",
      "  Starting server from /home/patrickh/anaconda3/lib/python3.6/site-packages/h2o/backend/bin/h2o.jar\n",
      "  Ice root: /tmp/tmpt6ervwvl\n",
      "  JVM stdout: /tmp/tmpt6ervwvl/h2o_patrickh_started_from_python.out\n",
      "  JVM stderr: /tmp/tmpt6ervwvl/h2o_patrickh_started_from_python.err\n",
      "  Server is running at http://127.0.0.1:54321\n",
      "Connecting to H2O server at http://127.0.0.1:54321... successful.\n"
     ]
    },
    {
     "data": {
      "text/html": [
       "<div style=\"overflow:auto\"><table style=\"width:50%\"><tr><td>H2O cluster uptime:</td>\n",
       "<td>01 secs</td></tr>\n",
       "<tr><td>H2O cluster timezone:</td>\n",
       "<td>America/New_York</td></tr>\n",
       "<tr><td>H2O data parsing timezone:</td>\n",
       "<td>UTC</td></tr>\n",
       "<tr><td>H2O cluster version:</td>\n",
       "<td>3.22.1.6</td></tr>\n",
       "<tr><td>H2O cluster version age:</td>\n",
       "<td>24 days </td></tr>\n",
       "<tr><td>H2O cluster name:</td>\n",
       "<td>H2O_from_python_patrickh_020k5w</td></tr>\n",
       "<tr><td>H2O cluster total nodes:</td>\n",
       "<td>1</td></tr>\n",
       "<tr><td>H2O cluster free memory:</td>\n",
       "<td>3.422 Gb</td></tr>\n",
       "<tr><td>H2O cluster total cores:</td>\n",
       "<td>8</td></tr>\n",
       "<tr><td>H2O cluster allowed cores:</td>\n",
       "<td>8</td></tr>\n",
       "<tr><td>H2O cluster status:</td>\n",
       "<td>accepting new members, healthy</td></tr>\n",
       "<tr><td>H2O connection url:</td>\n",
       "<td>http://127.0.0.1:54321</td></tr>\n",
       "<tr><td>H2O connection proxy:</td>\n",
       "<td>None</td></tr>\n",
       "<tr><td>H2O internal security:</td>\n",
       "<td>False</td></tr>\n",
       "<tr><td>H2O API Extensions:</td>\n",
       "<td>Amazon S3, XGBoost, Algos, AutoML, Core V3, Core V4</td></tr>\n",
       "<tr><td>Python version:</td>\n",
       "<td>3.6.4 final</td></tr></table></div>"
      ],
      "text/plain": [
       "--------------------------  ---------------------------------------------------\n",
       "H2O cluster uptime:         01 secs\n",
       "H2O cluster timezone:       America/New_York\n",
       "H2O data parsing timezone:  UTC\n",
       "H2O cluster version:        3.22.1.6\n",
       "H2O cluster version age:    24 days\n",
       "H2O cluster name:           H2O_from_python_patrickh_020k5w\n",
       "H2O cluster total nodes:    1\n",
       "H2O cluster free memory:    3.422 Gb\n",
       "H2O cluster total cores:    8\n",
       "H2O cluster allowed cores:  8\n",
       "H2O cluster status:         accepting new members, healthy\n",
       "H2O connection url:         http://127.0.0.1:54321\n",
       "H2O connection proxy:\n",
       "H2O internal security:      False\n",
       "H2O API Extensions:         Amazon S3, XGBoost, Algos, AutoML, Core V3, Core V4\n",
       "Python version:             3.6.4 final\n",
       "--------------------------  ---------------------------------------------------"
      ]
     },
     "metadata": {},
     "output_type": "display_data"
    }
   ],
   "source": [
    "# start and import h2o\n",
    "# set seed\n",
    "import h2o\n",
    "h2o.init()\n",
    "from h2o.estimators.glm import H2OGeneralizedLinearEstimator\n",
    "\n",
    "SEED = 12345"
   ]
  },
  {
   "cell_type": "code",
   "execution_count": 16,
   "metadata": {},
   "outputs": [
    {
     "name": "stdout",
     "output_type": "stream",
     "text": [
      "Parse progress: |█████████████████████████████████████████████████████████| 100%\n",
      "Parse progress: |█████████████████████████████████████████████████████████| 100%\n"
     ]
    }
   ],
   "source": [
    "# enforce same measurement levels in h2o and pandas\n",
    "col_types = {'chain': 'enum',\n",
    "             'offer': 'enum',\n",
    "             'market': 'enum',\n",
    "             'category': 'enum',\n",
    "             'company': 'enum',\n",
    "             'brand': 'enum',\n",
    "             'exact_item_bought': 'enum'}\n",
    "\n",
    "data_h2o = h2o.H2OFrame(data_pd, column_types=col_types)\n",
    "score_h2o = h2o.H2OFrame(score_pd, column_types=col_types)"
   ]
  },
  {
   "cell_type": "code",
   "execution_count": 17,
   "metadata": {},
   "outputs": [],
   "source": [
    "# expand date into new features\n",
    "data_h2o = data_h2o.concat(data_h2o['offerdate'].month().rename({'offerdate': 'month'}).asfactor())\n",
    "data_h2o = data_h2o.concat(data_h2o['offerdate'].week().rename({'offerdate': 'week'}).asfactor())\n",
    "data_h2o = data_h2o.concat(data_h2o['offerdate'].dayOfWeek().rename({'offerdate': 'dayOfWeek'}))\n",
    "data_h2o = data_h2o.concat(data_h2o['offerdate'].day().rename({'offerdate': 'day'}))\n",
    "\n",
    "score_h2o = score_h2o.concat(score_h2o['offerdate'].month().rename({'offerdate': 'month'}).asfactor())\n",
    "score_h2o = score_h2o.concat(score_h2o['offerdate'].week().rename({'offerdate': 'week'}).asfactor())\n",
    "score_h2o = score_h2o.concat(score_h2o['offerdate'].dayOfWeek().rename({'offerdate': 'dayOfWeek'}))\n",
    "score_h2o = score_h2o.concat(score_h2o['offerdate'].day().rename({'offerdate': 'day'}))  "
   ]
  },
  {
   "cell_type": "code",
   "execution_count": 18,
   "metadata": {},
   "outputs": [
    {
     "name": "stdout",
     "output_type": "stream",
     "text": [
      "Rows:160057\n",
      "Cols:18\n",
      "\n",
      "\n"
     ]
    },
    {
     "data": {
      "text/html": [
       "<table>\n",
       "<thead>\n",
       "<tr><th>       </th><th>id                </th><th>chain  </th><th>offer  </th><th>market  </th><th>repeater           </th><th>offerdate          </th><th>category  </th><th>quantity  </th><th>company  </th><th>offervalue        </th><th>brand  </th><th>avg_category_quantity  </th><th>avg_category_amount  </th><th>exact_item_bought  </th><th>month  </th><th>week  </th><th>dayOfWeek  </th><th>day               </th></tr>\n",
       "</thead>\n",
       "<tbody>\n",
       "<tr><td>type   </td><td>int               </td><td>enum   </td><td>enum   </td><td>enum    </td><td>int                </td><td>time               </td><td>enum      </td><td>int       </td><td>enum     </td><td>real              </td><td>enum   </td><td>real                   </td><td>real                 </td><td>enum               </td><td>enum   </td><td>enum  </td><td>enum       </td><td>int               </td></tr>\n",
       "<tr><td>mins   </td><td>86246.0           </td><td>       </td><td>       </td><td>        </td><td>0.0                </td><td>1362096000000.0    </td><td>          </td><td>1.0       </td><td>         </td><td>0.75              </td><td>       </td><td>-1.0                   </td><td>-85.14               </td><td>                   </td><td>       </td><td>      </td><td>           </td><td>1.0               </td></tr>\n",
       "<tr><td>mean   </td><td>1869324131.2555754</td><td>       </td><td>       </td><td>        </td><td>0.27139081702143614</td><td>1365220653082.3323 </td><td>          </td><td>1.0       </td><td>         </td><td>1.25532310364433  </td><td>       </td><td>0.6949999031818261     </td><td>2.2441312757227134   </td><td>                   </td><td>       </td><td>      </td><td>           </td><td>19.004467158574705</td></tr>\n",
       "<tr><td>maxs   </td><td>4809911000.0      </td><td>       </td><td>       </td><td>        </td><td>1.0                </td><td>1367280000000.0    </td><td>          </td><td>1.0       </td><td>         </td><td>3.0               </td><td>       </td><td>44.181818182           </td><td>62.218               </td><td>                   </td><td>       </td><td>      </td><td>           </td><td>31.0              </td></tr>\n",
       "<tr><td>sigma  </td><td>1570833451.4856217</td><td>       </td><td>       </td><td>        </td><td>0.4446786220260453 </td><td>1303790212.0504372 </td><td>          </td><td>0.0       </td><td>         </td><td>0.5246445261465219</td><td>       </td><td>0.7609072934172032     </td><td>2.5989523363669176   </td><td>                   </td><td>       </td><td>      </td><td>           </td><td>9.632905002480289 </td></tr>\n",
       "<tr><td>zeros  </td><td>0                 </td><td>       </td><td>       </td><td>        </td><td>116619             </td><td>0                  </td><td>          </td><td>0         </td><td>         </td><td>0                 </td><td>       </td><td>72549                  </td><td>72591                </td><td>                   </td><td>       </td><td>      </td><td>           </td><td>0                 </td></tr>\n",
       "<tr><td>missing</td><td>0                 </td><td>0      </td><td>0      </td><td>0       </td><td>0                  </td><td>0                  </td><td>0         </td><td>0         </td><td>0        </td><td>0                 </td><td>0      </td><td>0                      </td><td>0                    </td><td>0                  </td><td>0      </td><td>0     </td><td>0          </td><td>0                 </td></tr>\n",
       "<tr><td>0      </td><td>86246.0           </td><td>205    </td><td>1208251</td><td>34      </td><td>1.0                </td><td>2013-04-24 00:00:00</td><td>2202      </td><td>1.0       </td><td>104460040</td><td>2.0               </td><td>3718   </td><td>0.0                    </td><td>0.0                  </td><td>0                  </td><td>4      </td><td>17    </td><td>Wed        </td><td>24.0              </td></tr>\n",
       "<tr><td>1      </td><td>86252.0           </td><td>205    </td><td>unknown</td><td>34      </td><td>1.0                </td><td>2013-03-27 00:00:00</td><td>unknown   </td><td>1.0       </td><td>unknown  </td><td>0.75              </td><td>unknown</td><td>1.0                    </td><td>2.425                </td><td>1                  </td><td>3      </td><td>13    </td><td>Wed        </td><td>27.0              </td></tr>\n",
       "<tr><td>2      </td><td>12682470.0        </td><td>18     </td><td>unknown</td><td>11      </td><td>0.0                </td><td>2013-03-28 00:00:00</td><td>unknown   </td><td>1.0       </td><td>unknown  </td><td>0.75              </td><td>unknown</td><td>1.0                    </td><td>2.5                  </td><td>1                  </td><td>3      </td><td>13    </td><td>Thu        </td><td>28.0              </td></tr>\n",
       "<tr><td>3      </td><td>12996040.0        </td><td>15     </td><td>unknown</td><td>9       </td><td>0.0                </td><td>2013-03-25 00:00:00</td><td>unknown   </td><td>1.0       </td><td>unknown  </td><td>0.75              </td><td>unknown</td><td>0.0                    </td><td>0.0                  </td><td>0                  </td><td>3      </td><td>13    </td><td>Mon        </td><td>25.0              </td></tr>\n",
       "<tr><td>4      </td><td>13089312.0        </td><td>15     </td><td>1204821</td><td>9       </td><td>0.0                </td><td>2013-04-01 00:00:00</td><td>5619      </td><td>1.0       </td><td>107717272</td><td>1.5               </td><td>102504 </td><td>0.0                    </td><td>0.0                  </td><td>0                  </td><td>4      </td><td>14    </td><td>Mon        </td><td>1.0               </td></tr>\n",
       "<tr><td>5      </td><td>13179265.0        </td><td>14     </td><td>unknown</td><td>8       </td><td>0.0                </td><td>2013-03-29 00:00:00</td><td>unknown   </td><td>1.0       </td><td>unknown  </td><td>0.75              </td><td>unknown</td><td>0.0                    </td><td>0.0                  </td><td>0                  </td><td>3      </td><td>13    </td><td>Fri        </td><td>29.0              </td></tr>\n",
       "<tr><td>6      </td><td>13251776.0        </td><td>15     </td><td>1200581</td><td>9       </td><td>0.0                </td><td>2013-03-30 00:00:00</td><td>1726      </td><td>1.0       </td><td>104460040</td><td>1.25              </td><td>7668   </td><td>1.8                    </td><td>4.563                </td><td>1                  </td><td>3      </td><td>13    </td><td>Sat        </td><td>30.0              </td></tr>\n",
       "<tr><td>7      </td><td>13540129.0        </td><td>14     </td><td>1200581</td><td>8       </td><td>0.0                </td><td>2013-03-30 00:00:00</td><td>1726      </td><td>1.0       </td><td>104460040</td><td>1.25              </td><td>7668   </td><td>1.3333333333           </td><td>4.6533333333         </td><td>1                  </td><td>3      </td><td>13    </td><td>Sat        </td><td>30.0              </td></tr>\n",
       "<tr><td>8      </td><td>13807224.0        </td><td>4      </td><td>1204576</td><td>1       </td><td>0.0                </td><td>2013-04-05 00:00:00</td><td>5616      </td><td>1.0       </td><td>104610040</td><td>1.0               </td><td>15889  </td><td>1.4375                 </td><td>3.365                </td><td>1                  </td><td>4      </td><td>14    </td><td>Fri        </td><td>5.0               </td></tr>\n",
       "<tr><td>9      </td><td>13873775.0        </td><td>4      </td><td>unknown</td><td>1       </td><td>0.0                </td><td>2013-03-26 00:00:00</td><td>unknown   </td><td>1.0       </td><td>unknown  </td><td>0.75              </td><td>unknown</td><td>0.0                    </td><td>0.0                  </td><td>0                  </td><td>3      </td><td>13    </td><td>Tue        </td><td>26.0              </td></tr>\n",
       "</tbody>\n",
       "</table>"
      ]
     },
     "metadata": {},
     "output_type": "display_data"
    }
   ],
   "source": [
    "# look at training data\n",
    "data_h2o.describe()"
   ]
  },
  {
   "cell_type": "code",
   "execution_count": 19,
   "metadata": {
    "scrolled": true
   },
   "outputs": [
    {
     "name": "stdout",
     "output_type": "stream",
     "text": [
      "Rows:151484\n",
      "Cols:17\n",
      "\n",
      "\n"
     ]
    },
    {
     "data": {
      "text/html": [
       "<table>\n",
       "<thead>\n",
       "<tr><th>       </th><th>id                </th><th>chain  </th><th>offer  </th><th>market  </th><th>offerdate          </th><th>category  </th><th>quantity          </th><th>company  </th><th>offervalue        </th><th>brand  </th><th>avg_category_quantity  </th><th>avg_category_amount  </th><th>exact_item_bought  </th><th>month  </th><th>week  </th><th>dayOfWeek  </th><th>day               </th></tr>\n",
       "</thead>\n",
       "<tbody>\n",
       "<tr><td>type   </td><td>int               </td><td>enum   </td><td>enum   </td><td>enum    </td><td>time               </td><td>enum      </td><td>int               </td><td>enum     </td><td>real              </td><td>enum   </td><td>real                   </td><td>real                 </td><td>enum               </td><td>enum   </td><td>enum  </td><td>enum       </td><td>int               </td></tr>\n",
       "<tr><td>mins   </td><td>12262064.0        </td><td>       </td><td>       </td><td>        </td><td>1367366400000.0    </td><td>          </td><td>1.0               </td><td>         </td><td>1.0               </td><td>       </td><td>-1.0                   </td><td>-18.76               </td><td>                   </td><td>       </td><td>      </td><td>           </td><td>1.0               </td></tr>\n",
       "<tr><td>mean   </td><td>2367235598.062943 </td><td>       </td><td>       </td><td>        </td><td>1372045742758.312  </td><td>          </td><td>1.2141942383354016</td><td>         </td><td>1.8039594940719834</td><td>       </td><td>0.9798367012155557     </td><td>3.918267425267764    </td><td>                   </td><td>       </td><td>      </td><td>           </td><td>20.815993768318656</td></tr>\n",
       "<tr><td>maxs   </td><td>4853598737.0      </td><td>       </td><td>       </td><td>        </td><td>1375228800000.0    </td><td>          </td><td>2.0               </td><td>         </td><td>5.0               </td><td>       </td><td>40.0                   </td><td>103.87               </td><td>                   </td><td>       </td><td>      </td><td>           </td><td>31.0              </td></tr>\n",
       "<tr><td>sigma  </td><td>1629644569.9344237</td><td>       </td><td>       </td><td>        </td><td>1768808429.4717584 </td><td>          </td><td>0.4102635466557285</td><td>         </td><td>0.7684280524816689</td><td>       </td><td>0.6520652050938551     </td><td>3.24780201201996     </td><td>                   </td><td>       </td><td>      </td><td>           </td><td>7.076741234531553 </td></tr>\n",
       "<tr><td>zeros  </td><td>0                 </td><td>       </td><td>       </td><td>        </td><td>0                  </td><td>          </td><td>0                 </td><td>         </td><td>0                 </td><td>       </td><td>27950                  </td><td>27970                </td><td>                   </td><td>       </td><td>      </td><td>           </td><td>0                 </td></tr>\n",
       "<tr><td>missing</td><td>0                 </td><td>0      </td><td>0      </td><td>0       </td><td>0                  </td><td>0         </td><td>0                 </td><td>0        </td><td>0                 </td><td>0      </td><td>0                      </td><td>0                    </td><td>0                  </td><td>0      </td><td>0     </td><td>0          </td><td>0                 </td></tr>\n",
       "<tr><td>0      </td><td>12262064.0        </td><td>95     </td><td>unknown</td><td>39      </td><td>2013-06-27 00:00:00</td><td>unknown   </td><td>1.0               </td><td>unknown  </td><td>1.5               </td><td>unknown</td><td>0.0                    </td><td>0.0                  </td><td>0                  </td><td>6      </td><td>26    </td><td>Thu        </td><td>27.0              </td></tr>\n",
       "<tr><td>1      </td><td>12277270.0        </td><td>95     </td><td>unknown</td><td>39      </td><td>2013-06-23 00:00:00</td><td>unknown   </td><td>2.0               </td><td>unknown  </td><td>3.0               </td><td>unknown</td><td>1.2                    </td><td>3.882                </td><td>1                  </td><td>6      </td><td>25    </td><td>Sun        </td><td>23.0              </td></tr>\n",
       "<tr><td>2      </td><td>12332190.0        </td><td>95     </td><td>unknown</td><td>39      </td><td>2013-06-15 00:00:00</td><td>unknown   </td><td>1.0               </td><td>unknown  </td><td>2.0               </td><td>unknown</td><td>2.0                    </td><td>6.98                 </td><td>1                  </td><td>6      </td><td>24    </td><td>Sat        </td><td>15.0              </td></tr>\n",
       "<tr><td>3      </td><td>12524696.0        </td><td>4      </td><td>unknown</td><td>1       </td><td>2013-06-20 00:00:00</td><td>unknown   </td><td>1.0               </td><td>unknown  </td><td>1.5               </td><td>unknown</td><td>1.0                    </td><td>4.2425               </td><td>1                  </td><td>6      </td><td>25    </td><td>Thu        </td><td>20.0              </td></tr>\n",
       "<tr><td>4      </td><td>13074629.0        </td><td>14     </td><td>unknown</td><td>8       </td><td>2013-06-21 00:00:00</td><td>unknown   </td><td>2.0               </td><td>unknown  </td><td>3.0               </td><td>unknown</td><td>1.0                    </td><td>5.6185714286         </td><td>1                  </td><td>6      </td><td>25    </td><td>Fri        </td><td>21.0              </td></tr>\n",
       "<tr><td>5      </td><td>13387341.0        </td><td>14     </td><td>unknown</td><td>8       </td><td>2013-06-22 00:00:00</td><td>unknown   </td><td>2.0               </td><td>unknown  </td><td>3.0               </td><td>unknown</td><td>1.0                    </td><td>4.49                 </td><td>1                  </td><td>6      </td><td>25    </td><td>Sat        </td><td>22.0              </td></tr>\n",
       "<tr><td>6      </td><td>13501141.0        </td><td>4      </td><td>unknown</td><td>1       </td><td>2013-05-13 00:00:00</td><td>unknown   </td><td>1.0               </td><td>unknown  </td><td>1.5               </td><td>unknown</td><td>1.0                    </td><td>6.74                 </td><td>1                  </td><td>5      </td><td>20    </td><td>Mon        </td><td>13.0              </td></tr>\n",
       "<tr><td>7      </td><td>13558712.0        </td><td>15     </td><td>unknown</td><td>9       </td><td>2013-05-12 00:00:00</td><td>unknown   </td><td>1.0               </td><td>unknown  </td><td>1.5               </td><td>unknown</td><td>1.0                    </td><td>10.323333333         </td><td>1                  </td><td>5      </td><td>19    </td><td>Sun        </td><td>12.0              </td></tr>\n",
       "<tr><td>8      </td><td>13563017.0        </td><td>14     </td><td>unknown</td><td>8       </td><td>2013-06-24 00:00:00</td><td>unknown   </td><td>1.0               </td><td>unknown  </td><td>1.5               </td><td>unknown</td><td>1.0                    </td><td>5.3066666667         </td><td>1                  </td><td>6      </td><td>26    </td><td>Mon        </td><td>24.0              </td></tr>\n",
       "<tr><td>9      </td><td>13584134.0        </td><td>14     </td><td>unknown</td><td>8       </td><td>2013-06-27 00:00:00</td><td>unknown   </td><td>1.0               </td><td>unknown  </td><td>1.5               </td><td>unknown</td><td>1.0                    </td><td>2.84                 </td><td>1                  </td><td>6      </td><td>26    </td><td>Thu        </td><td>27.0              </td></tr>\n",
       "</tbody>\n",
       "</table>"
      ]
     },
     "metadata": {},
     "output_type": "display_data"
    }
   ],
   "source": [
    "# look at test data\n",
    "score_h2o.describe()"
   ]
  },
  {
   "cell_type": "code",
   "execution_count": 20,
   "metadata": {},
   "outputs": [
    {
     "name": "stdout",
     "output_type": "stream",
     "text": [
      "repeater\n",
      "['offer', 'category', 'company', 'offervalue', 'brand', 'avg_category_quantity', 'avg_category_amount', 'exact_item_bought', 'month', 'week', 'dayOfWeek', 'day']\n"
     ]
    }
   ],
   "source": [
    "# quantity unary, drop it\n",
    "# drop other unusable variables\n",
    "# set modeling roles\n",
    "drops = ['id', 'chain', 'market', 'offerdate', 'quantity']\n",
    "y = 'repeater'\n",
    "X = [name for name in data_h2o.columns if name not in [y] + drops]\n",
    "print(y)\n",
    "print(X)"
   ]
  },
  {
   "cell_type": "code",
   "execution_count": 21,
   "metadata": {},
   "outputs": [],
   "source": [
    "# create modeling partitions\n",
    "train, valid, test = data_h2o.split_frame([0.4, 0.3], seed=SEED)"
   ]
  },
  {
   "cell_type": "code",
   "execution_count": 22,
   "metadata": {},
   "outputs": [
    {
     "data": {
      "text/plain": [
       "(64122, 18)"
      ]
     },
     "execution_count": 22,
     "metadata": {},
     "output_type": "execute_result"
    }
   ],
   "source": [
    "# check shape \n",
    "train.shape"
   ]
  },
  {
   "cell_type": "code",
   "execution_count": 23,
   "metadata": {},
   "outputs": [
    {
     "data": {
      "text/plain": [
       "(47980, 18)"
      ]
     },
     "execution_count": 23,
     "metadata": {},
     "output_type": "execute_result"
    }
   ],
   "source": [
    "# check shape \n",
    "valid.shape"
   ]
  },
  {
   "cell_type": "code",
   "execution_count": 24,
   "metadata": {},
   "outputs": [
    {
     "data": {
      "text/plain": [
       "(47955, 18)"
      ]
     },
     "execution_count": 24,
     "metadata": {},
     "output_type": "execute_result"
    }
   ],
   "source": [
    "# check shape \n",
    "test.shape"
   ]
  },
  {
   "cell_type": "code",
   "execution_count": 25,
   "metadata": {},
   "outputs": [
    {
     "name": "stdout",
     "output_type": "stream",
     "text": [
      "glm Model Build progress: |███████████████████████████████████████████████| 100%\n"
     ]
    }
   ],
   "source": [
    "# elastic net regularized regression \n",
    "#   - L1 for variable selection\n",
    "#   - L2 for handling multicollinearity\n",
    "#   - IRLS for handling outliers\n",
    "#   - with lamba parameter tuning for variable selection\n",
    "\n",
    "# initialize\n",
    "rptr_glm = H2OGeneralizedLinearEstimator(family='binomial',\n",
    "                                         model_id='rptr_glm1',\n",
    "                                         solver='IRLSM',\n",
    "                                         nfolds=3,\n",
    "                                         standardize=True,\n",
    "                                         seed=SEED,\n",
    "                                         lambda_search=True)\n",
    "\n",
    "# train \n",
    "rptr_glm.train(X, y, training_frame=train, validation_frame=valid)"
   ]
  },
  {
   "cell_type": "code",
   "execution_count": 26,
   "metadata": {},
   "outputs": [
    {
     "data": {
      "text/html": [
       "<div>\n",
       "<style scoped>\n",
       "    .dataframe tbody tr th:only-of-type {\n",
       "        vertical-align: middle;\n",
       "    }\n",
       "\n",
       "    .dataframe tbody tr th {\n",
       "        vertical-align: top;\n",
       "    }\n",
       "\n",
       "    .dataframe thead th {\n",
       "        text-align: right;\n",
       "    }\n",
       "</style>\n",
       "<table border=\"1\" class=\"dataframe\">\n",
       "  <thead>\n",
       "    <tr style=\"text-align: right;\">\n",
       "      <th></th>\n",
       "      <th></th>\n",
       "      <th>mean</th>\n",
       "      <th>sd</th>\n",
       "      <th>cv_1_valid</th>\n",
       "      <th>cv_2_valid</th>\n",
       "      <th>cv_3_valid</th>\n",
       "    </tr>\n",
       "  </thead>\n",
       "  <tbody>\n",
       "    <tr>\n",
       "      <th>0</th>\n",
       "      <td>accuracy</td>\n",
       "      <td>0.5633181</td>\n",
       "      <td>0.0034985114</td>\n",
       "      <td>0.5576324</td>\n",
       "      <td>0.5626291</td>\n",
       "      <td>0.56969273</td>\n",
       "    </tr>\n",
       "    <tr>\n",
       "      <th>1</th>\n",
       "      <td>auc</td>\n",
       "      <td>0.66687614</td>\n",
       "      <td>0.0013872668</td>\n",
       "      <td>0.6641128</td>\n",
       "      <td>0.6684734</td>\n",
       "      <td>0.6680421</td>\n",
       "    </tr>\n",
       "    <tr>\n",
       "      <th>2</th>\n",
       "      <td>err</td>\n",
       "      <td>0.43668193</td>\n",
       "      <td>0.0034985114</td>\n",
       "      <td>0.4423676</td>\n",
       "      <td>0.4373709</td>\n",
       "      <td>0.4303073</td>\n",
       "    </tr>\n",
       "    <tr>\n",
       "      <th>3</th>\n",
       "      <td>err_count</td>\n",
       "      <td>9334.0</td>\n",
       "      <td>99.13627</td>\n",
       "      <td>9514.0</td>\n",
       "      <td>9316.0</td>\n",
       "      <td>9172.0</td>\n",
       "    </tr>\n",
       "    <tr>\n",
       "      <th>4</th>\n",
       "      <td>f0point5</td>\n",
       "      <td>0.39562488</td>\n",
       "      <td>8.234713E-4</td>\n",
       "      <td>0.39596537</td>\n",
       "      <td>0.3968501</td>\n",
       "      <td>0.39405915</td>\n",
       "    </tr>\n",
       "    <tr>\n",
       "      <th>5</th>\n",
       "      <td>f1</td>\n",
       "      <td>0.48101103</td>\n",
       "      <td>0.0012617736</td>\n",
       "      <td>0.48254105</td>\n",
       "      <td>0.481984</td>\n",
       "      <td>0.47850809</td>\n",
       "    </tr>\n",
       "    <tr>\n",
       "      <th>6</th>\n",
       "      <td>f2</td>\n",
       "      <td>0.613405</td>\n",
       "      <td>0.0024687524</td>\n",
       "      <td>0.61756927</td>\n",
       "      <td>0.6136203</td>\n",
       "      <td>0.60902536</td>\n",
       "    </tr>\n",
       "    <tr>\n",
       "      <th>7</th>\n",
       "      <td>lift_top_group</td>\n",
       "      <td>2.0142968</td>\n",
       "      <td>0.050682575</td>\n",
       "      <td>2.027856</td>\n",
       "      <td>2.0945127</td>\n",
       "      <td>1.920521</td>\n",
       "    </tr>\n",
       "    <tr>\n",
       "      <th>8</th>\n",
       "      <td>logloss</td>\n",
       "      <td>0.5482143</td>\n",
       "      <td>0.0020346912</td>\n",
       "      <td>0.5511301</td>\n",
       "      <td>0.5492147</td>\n",
       "      <td>0.54429805</td>\n",
       "    </tr>\n",
       "    <tr>\n",
       "      <th>9</th>\n",
       "      <td>max_per_class_error</td>\n",
       "      <td>0.50603294</td>\n",
       "      <td>0.0070085404</td>\n",
       "      <td>0.5175562</td>\n",
       "      <td>0.5071829</td>\n",
       "      <td>0.4933597</td>\n",
       "    </tr>\n",
       "    <tr>\n",
       "      <th>10</th>\n",
       "      <td>mcc</td>\n",
       "      <td>0.21990056</td>\n",
       "      <td>0.0016726145</td>\n",
       "      <td>0.21801764</td>\n",
       "      <td>0.21844749</td>\n",
       "      <td>0.22323658</td>\n",
       "    </tr>\n",
       "    <tr>\n",
       "      <th>11</th>\n",
       "      <td>mean_per_class_accuracy</td>\n",
       "      <td>0.6226167</td>\n",
       "      <td>0.0014614518</td>\n",
       "      <td>0.6208214</td>\n",
       "      <td>0.62151676</td>\n",
       "      <td>0.6255119</td>\n",
       "    </tr>\n",
       "    <tr>\n",
       "      <th>12</th>\n",
       "      <td>mean_per_class_error</td>\n",
       "      <td>0.37738332</td>\n",
       "      <td>0.0014614518</td>\n",
       "      <td>0.37917858</td>\n",
       "      <td>0.37848327</td>\n",
       "      <td>0.37448812</td>\n",
       "    </tr>\n",
       "    <tr>\n",
       "      <th>13</th>\n",
       "      <td>mse</td>\n",
       "      <td>0.18361354</td>\n",
       "      <td>9.3339913E-4</td>\n",
       "      <td>0.18492535</td>\n",
       "      <td>0.18410787</td>\n",
       "      <td>0.18180738</td>\n",
       "    </tr>\n",
       "    <tr>\n",
       "      <th>14</th>\n",
       "      <td>null_deviance</td>\n",
       "      <td>24907.797</td>\n",
       "      <td>143.848</td>\n",
       "      <td>25161.13</td>\n",
       "      <td>24899.21</td>\n",
       "      <td>24663.049</td>\n",
       "    </tr>\n",
       "    <tr>\n",
       "      <th>15</th>\n",
       "      <td>precision</td>\n",
       "      <td>0.3537607</td>\n",
       "      <td>7.134559E-4</td>\n",
       "      <td>0.35366338</td>\n",
       "      <td>0.3550422</td>\n",
       "      <td>0.35257646</td>\n",
       "    </tr>\n",
       "    <tr>\n",
       "      <th>16</th>\n",
       "      <td>r2</td>\n",
       "      <td>0.0670119</td>\n",
       "      <td>9.0821454E-4</td>\n",
       "      <td>0.06541767</td>\n",
       "      <td>0.068562925</td>\n",
       "      <td>0.067055106</td>\n",
       "    </tr>\n",
       "    <tr>\n",
       "      <th>17</th>\n",
       "      <td>recall</td>\n",
       "      <td>0.7512663</td>\n",
       "      <td>0.004308973</td>\n",
       "      <td>0.759199</td>\n",
       "      <td>0.75021636</td>\n",
       "      <td>0.7443835</td>\n",
       "    </tr>\n",
       "    <tr>\n",
       "      <th>18</th>\n",
       "      <td>residual_deviance</td>\n",
       "      <td>23435.428</td>\n",
       "      <td>146.4661</td>\n",
       "      <td>23706.31</td>\n",
       "      <td>23396.547</td>\n",
       "      <td>23203.426</td>\n",
       "    </tr>\n",
       "    <tr>\n",
       "      <th>19</th>\n",
       "      <td>rmse</td>\n",
       "      <td>0.42849872</td>\n",
       "      <td>0.0010901511</td>\n",
       "      <td>0.43002948</td>\n",
       "      <td>0.42907792</td>\n",
       "      <td>0.42638877</td>\n",
       "    </tr>\n",
       "    <tr>\n",
       "      <th>20</th>\n",
       "      <td>specificity</td>\n",
       "      <td>0.49396706</td>\n",
       "      <td>0.0070085404</td>\n",
       "      <td>0.4824438</td>\n",
       "      <td>0.4928171</td>\n",
       "      <td>0.50664026</td>\n",
       "    </tr>\n",
       "  </tbody>\n",
       "</table>\n",
       "</div>"
      ],
      "text/plain": [
       "                                   mean            sd  cv_1_valid  \\\n",
       "0                  accuracy   0.5633181  0.0034985114   0.5576324   \n",
       "1                       auc  0.66687614  0.0013872668   0.6641128   \n",
       "2                       err  0.43668193  0.0034985114   0.4423676   \n",
       "3                 err_count      9334.0      99.13627      9514.0   \n",
       "4                  f0point5  0.39562488   8.234713E-4  0.39596537   \n",
       "5                        f1  0.48101103  0.0012617736  0.48254105   \n",
       "6                        f2    0.613405  0.0024687524  0.61756927   \n",
       "7            lift_top_group   2.0142968   0.050682575    2.027856   \n",
       "8                   logloss   0.5482143  0.0020346912   0.5511301   \n",
       "9       max_per_class_error  0.50603294  0.0070085404   0.5175562   \n",
       "10                      mcc  0.21990056  0.0016726145  0.21801764   \n",
       "11  mean_per_class_accuracy   0.6226167  0.0014614518   0.6208214   \n",
       "12     mean_per_class_error  0.37738332  0.0014614518  0.37917858   \n",
       "13                      mse  0.18361354  9.3339913E-4  0.18492535   \n",
       "14            null_deviance   24907.797       143.848    25161.13   \n",
       "15                precision   0.3537607   7.134559E-4  0.35366338   \n",
       "16                       r2   0.0670119  9.0821454E-4  0.06541767   \n",
       "17                   recall   0.7512663   0.004308973    0.759199   \n",
       "18        residual_deviance   23435.428      146.4661    23706.31   \n",
       "19                     rmse  0.42849872  0.0010901511  0.43002948   \n",
       "20              specificity  0.49396706  0.0070085404   0.4824438   \n",
       "\n",
       "     cv_2_valid   cv_3_valid  \n",
       "0     0.5626291   0.56969273  \n",
       "1     0.6684734    0.6680421  \n",
       "2     0.4373709    0.4303073  \n",
       "3        9316.0       9172.0  \n",
       "4     0.3968501   0.39405915  \n",
       "5      0.481984   0.47850809  \n",
       "6     0.6136203   0.60902536  \n",
       "7     2.0945127     1.920521  \n",
       "8     0.5492147   0.54429805  \n",
       "9     0.5071829    0.4933597  \n",
       "10   0.21844749   0.22323658  \n",
       "11   0.62151676    0.6255119  \n",
       "12   0.37848327   0.37448812  \n",
       "13   0.18410787   0.18180738  \n",
       "14     24899.21    24663.049  \n",
       "15    0.3550422   0.35257646  \n",
       "16  0.068562925  0.067055106  \n",
       "17   0.75021636    0.7443835  \n",
       "18    23396.547    23203.426  \n",
       "19   0.42907792   0.42638877  \n",
       "20    0.4928171   0.50664026  "
      ]
     },
     "execution_count": 26,
     "metadata": {},
     "output_type": "execute_result"
    }
   ],
   "source": [
    "# check for stability across folds -- looks good\n",
    "rptr_glm.cross_validation_metrics_summary().as_data_frame()"
   ]
  },
  {
   "cell_type": "code",
   "execution_count": 27,
   "metadata": {},
   "outputs": [
    {
     "data": {
      "text/plain": [
       "0.6682898515349129"
      ]
     },
     "execution_count": 27,
     "metadata": {},
     "output_type": "execute_result"
    }
   ],
   "source": [
    "# train AUC\n",
    "rptr_glm.auc(valid=False)"
   ]
  },
  {
   "cell_type": "code",
   "execution_count": 28,
   "metadata": {},
   "outputs": [
    {
     "data": {
      "text/plain": [
       "0.6642797159900581"
      ]
     },
     "execution_count": 28,
     "metadata": {},
     "output_type": "execute_result"
    }
   ],
   "source": [
    "# valid AUC\n",
    "rptr_glm.auc(valid=True)"
   ]
  },
  {
   "cell_type": "code",
   "execution_count": 29,
   "metadata": {},
   "outputs": [
    {
     "data": {
      "text/plain": [
       "0.66930388703468"
      ]
     },
     "execution_count": 29,
     "metadata": {},
     "output_type": "execute_result"
    }
   ],
   "source": [
    "# test AUC\n",
    "rptr_glm.model_performance(test).auc()"
   ]
  },
  {
   "cell_type": "code",
   "execution_count": 30,
   "metadata": {},
   "outputs": [
    {
     "name": "stdout",
     "output_type": "stream",
     "text": [
      "\n",
      "ModelMetricsBinomialGLM: glm\n",
      "** Reported on test data. **\n",
      "\n",
      "MSE: 0.18433338418488365\n",
      "RMSE: 0.4293406388695154\n",
      "LogLoss: 0.5500303205580226\n",
      "Null degrees of freedom: 47979\n",
      "Residual degrees of freedom: 47926\n",
      "Null deviance: 56034.26930760575\n",
      "Residual deviance: 52780.909560747896\n",
      "AIC: 52888.909560747896\n",
      "AUC: 0.6642797159900581\n",
      "pr_auc: 0.4082413348072177\n",
      "Gini: 0.32855943198011617\n",
      "Confusion Matrix (Act/Pred) for max f1 @ threshold = 0.23680137514237834: \n"
     ]
    },
    {
     "data": {
      "text/html": [
       "<div style=\"overflow:auto\"><table style=\"width:50%\"><tr><td><b></b></td>\n",
       "<td><b>0</b></td>\n",
       "<td><b>1</b></td>\n",
       "<td><b>Error</b></td>\n",
       "<td><b>Rate</b></td></tr>\n",
       "<tr><td>0</td>\n",
       "<td>17240.0</td>\n",
       "<td>17753.0</td>\n",
       "<td>0.5073</td>\n",
       "<td> (17753.0/34993.0)</td></tr>\n",
       "<tr><td>1</td>\n",
       "<td>3305.0</td>\n",
       "<td>9682.0</td>\n",
       "<td>0.2545</td>\n",
       "<td> (3305.0/12987.0)</td></tr>\n",
       "<tr><td>Total</td>\n",
       "<td>20545.0</td>\n",
       "<td>27435.0</td>\n",
       "<td>0.4389</td>\n",
       "<td> (21058.0/47980.0)</td></tr></table></div>"
      ],
      "text/plain": [
       "       0      1      Error    Rate\n",
       "-----  -----  -----  -------  -----------------\n",
       "0      17240  17753  0.5073   (17753.0/34993.0)\n",
       "1      3305   9682   0.2545   (3305.0/12987.0)\n",
       "Total  20545  27435  0.4389   (21058.0/47980.0)"
      ]
     },
     "metadata": {},
     "output_type": "display_data"
    },
    {
     "name": "stdout",
     "output_type": "stream",
     "text": [
      "Maximum Metrics: Maximum metrics at their respective thresholds\n",
      "\n"
     ]
    },
    {
     "data": {
      "text/html": [
       "<div style=\"overflow:auto\"><table style=\"width:50%\"><tr><td><b>metric</b></td>\n",
       "<td><b>threshold</b></td>\n",
       "<td><b>value</b></td>\n",
       "<td><b>idx</b></td></tr>\n",
       "<tr><td>max f1</td>\n",
       "<td>0.2368014</td>\n",
       "<td>0.4790461</td>\n",
       "<td>274.0</td></tr>\n",
       "<tr><td>max f2</td>\n",
       "<td>0.1223229</td>\n",
       "<td>0.6605821</td>\n",
       "<td>358.0</td></tr>\n",
       "<tr><td>max f0point5</td>\n",
       "<td>0.3284445</td>\n",
       "<td>0.4251892</td>\n",
       "<td>202.0</td></tr>\n",
       "<tr><td>max accuracy</td>\n",
       "<td>0.4805090</td>\n",
       "<td>0.7320342</td>\n",
       "<td>76.0</td></tr>\n",
       "<tr><td>max precision</td>\n",
       "<td>0.7387865</td>\n",
       "<td>0.6923077</td>\n",
       "<td>8.0</td></tr>\n",
       "<tr><td>max recall</td>\n",
       "<td>0.0559133</td>\n",
       "<td>1.0</td>\n",
       "<td>399.0</td></tr>\n",
       "<tr><td>max specificity</td>\n",
       "<td>0.9378370</td>\n",
       "<td>0.9999143</td>\n",
       "<td>0.0</td></tr>\n",
       "<tr><td>max absolute_mcc</td>\n",
       "<td>0.2928417</td>\n",
       "<td>0.2189525</td>\n",
       "<td>229.0</td></tr>\n",
       "<tr><td>max min_per_class_accuracy</td>\n",
       "<td>0.2913873</td>\n",
       "<td>0.6202098</td>\n",
       "<td>231.0</td></tr>\n",
       "<tr><td>max mean_per_class_accuracy</td>\n",
       "<td>0.2928417</td>\n",
       "<td>0.6222223</td>\n",
       "<td>229.0</td></tr></table></div>"
      ],
      "text/plain": [
       "metric                       threshold    value     idx\n",
       "---------------------------  -----------  --------  -----\n",
       "max f1                       0.236801     0.479046  274\n",
       "max f2                       0.122323     0.660582  358\n",
       "max f0point5                 0.328445     0.425189  202\n",
       "max accuracy                 0.480509     0.732034  76\n",
       "max precision                0.738787     0.692308  8\n",
       "max recall                   0.0559133    1         399\n",
       "max specificity              0.937837     0.999914  0\n",
       "max absolute_mcc             0.292842     0.218953  229\n",
       "max min_per_class_accuracy   0.291387     0.62021   231\n",
       "max mean_per_class_accuracy  0.292842     0.622222  229"
      ]
     },
     "metadata": {},
     "output_type": "display_data"
    },
    {
     "name": "stdout",
     "output_type": "stream",
     "text": [
      "Gains/Lift Table: Avg response rate: 27.07 %, avg score: 26.98 %\n",
      "\n"
     ]
    },
    {
     "data": {
      "text/html": [
       "<div style=\"overflow:auto\"><table style=\"width:50%\"><tr><td><b></b></td>\n",
       "<td><b>group</b></td>\n",
       "<td><b>cumulative_data_fraction</b></td>\n",
       "<td><b>lower_threshold</b></td>\n",
       "<td><b>lift</b></td>\n",
       "<td><b>cumulative_lift</b></td>\n",
       "<td><b>response_rate</b></td>\n",
       "<td><b>score</b></td>\n",
       "<td><b>cumulative_response_rate</b></td>\n",
       "<td><b>cumulative_score</b></td>\n",
       "<td><b>capture_rate</b></td>\n",
       "<td><b>cumulative_capture_rate</b></td>\n",
       "<td><b>gain</b></td>\n",
       "<td><b>cumulative_gain</b></td></tr>\n",
       "<tr><td></td>\n",
       "<td>1</td>\n",
       "<td>0.0100459</td>\n",
       "<td>0.5366650</td>\n",
       "<td>2.0005291</td>\n",
       "<td>2.0005291</td>\n",
       "<td>0.5414938</td>\n",
       "<td>0.5850936</td>\n",
       "<td>0.5414938</td>\n",
       "<td>0.5850936</td>\n",
       "<td>0.0200970</td>\n",
       "<td>0.0200970</td>\n",
       "<td>100.0529096</td>\n",
       "<td>100.0529096</td></tr>\n",
       "<tr><td></td>\n",
       "<td>2</td>\n",
       "<td>0.0200917</td>\n",
       "<td>0.5128554</td>\n",
       "<td>1.9698696</td>\n",
       "<td>1.9851994</td>\n",
       "<td>0.5331950</td>\n",
       "<td>0.5228512</td>\n",
       "<td>0.5373444</td>\n",
       "<td>0.5539724</td>\n",
       "<td>0.0197890</td>\n",
       "<td>0.0398860</td>\n",
       "<td>96.9869646</td>\n",
       "<td>98.5199371</td></tr>\n",
       "<tr><td></td>\n",
       "<td>3</td>\n",
       "<td>0.0300125</td>\n",
       "<td>0.4961243</td>\n",
       "<td>1.9093237</td>\n",
       "<td>1.9601182</td>\n",
       "<td>0.5168067</td>\n",
       "<td>0.5044425</td>\n",
       "<td>0.5305556</td>\n",
       "<td>0.5376000</td>\n",
       "<td>0.0189420</td>\n",
       "<td>0.0588281</td>\n",
       "<td>90.9323674</td>\n",
       "<td>96.0118238</td></tr>\n",
       "<tr><td></td>\n",
       "<td>4</td>\n",
       "<td>0.0400167</td>\n",
       "<td>0.4826037</td>\n",
       "<td>1.9472902</td>\n",
       "<td>1.9569112</td>\n",
       "<td>0.5270833</td>\n",
       "<td>0.4896555</td>\n",
       "<td>0.5296875</td>\n",
       "<td>0.5256139</td>\n",
       "<td>0.0194810</td>\n",
       "<td>0.0783091</td>\n",
       "<td>94.7290239</td>\n",
       "<td>95.6911238</td></tr>\n",
       "<tr><td></td>\n",
       "<td>5</td>\n",
       "<td>0.05</td>\n",
       "<td>0.4676137</td>\n",
       "<td>1.7353953</td>\n",
       "<td>1.9126819</td>\n",
       "<td>0.4697286</td>\n",
       "<td>0.4742862</td>\n",
       "<td>0.5177157</td>\n",
       "<td>0.5153654</td>\n",
       "<td>0.0173250</td>\n",
       "<td>0.0956341</td>\n",
       "<td>73.5395264</td>\n",
       "<td>91.2681913</td></tr>\n",
       "<tr><td></td>\n",
       "<td>6</td>\n",
       "<td>0.1</td>\n",
       "<td>0.4247933</td>\n",
       "<td>1.7386617</td>\n",
       "<td>1.8256718</td>\n",
       "<td>0.4706128</td>\n",
       "<td>0.4440226</td>\n",
       "<td>0.4941642</td>\n",
       "<td>0.4796940</td>\n",
       "<td>0.0869331</td>\n",
       "<td>0.1825672</td>\n",
       "<td>73.8661739</td>\n",
       "<td>82.5671826</td></tr>\n",
       "<tr><td></td>\n",
       "<td>7</td>\n",
       "<td>0.15</td>\n",
       "<td>0.3940127</td>\n",
       "<td>1.4676215</td>\n",
       "<td>1.7063217</td>\n",
       "<td>0.3972489</td>\n",
       "<td>0.4091581</td>\n",
       "<td>0.4618591</td>\n",
       "<td>0.4561820</td>\n",
       "<td>0.0733811</td>\n",
       "<td>0.2559483</td>\n",
       "<td>46.7621468</td>\n",
       "<td>70.6321706</td></tr>\n",
       "<tr><td></td>\n",
       "<td>8</td>\n",
       "<td>0.2</td>\n",
       "<td>0.3653559</td>\n",
       "<td>1.3043813</td>\n",
       "<td>1.6058366</td>\n",
       "<td>0.3530638</td>\n",
       "<td>0.3791261</td>\n",
       "<td>0.4346603</td>\n",
       "<td>0.4369180</td>\n",
       "<td>0.0652191</td>\n",
       "<td>0.3211673</td>\n",
       "<td>30.4381304</td>\n",
       "<td>60.5836606</td></tr>\n",
       "<tr><td></td>\n",
       "<td>9</td>\n",
       "<td>0.3152980</td>\n",
       "<td>0.3233892</td>\n",
       "<td>1.3456877</td>\n",
       "<td>1.5107055</td>\n",
       "<td>0.3642444</td>\n",
       "<td>0.3402462</td>\n",
       "<td>0.4089106</td>\n",
       "<td>0.4015671</td>\n",
       "<td>0.1551552</td>\n",
       "<td>0.4763225</td>\n",
       "<td>34.5687698</td>\n",
       "<td>51.0705474</td></tr>\n",
       "<tr><td></td>\n",
       "<td>10</td>\n",
       "<td>0.4043560</td>\n",
       "<td>0.3039213</td>\n",
       "<td>1.1542497</td>\n",
       "<td>1.4321974</td>\n",
       "<td>0.3124269</td>\n",
       "<td>0.3130243</td>\n",
       "<td>0.3876604</td>\n",
       "<td>0.3820659</td>\n",
       "<td>0.1027951</td>\n",
       "<td>0.5791176</td>\n",
       "<td>15.4249715</td>\n",
       "<td>43.2197384</td></tr>\n",
       "<tr><td></td>\n",
       "<td>11</td>\n",
       "<td>0.5002293</td>\n",
       "<td>0.2727063</td>\n",
       "<td>0.9581511</td>\n",
       "<td>1.3413423</td>\n",
       "<td>0.2593478</td>\n",
       "<td>0.2891334</td>\n",
       "<td>0.3630682</td>\n",
       "<td>0.3642546</td>\n",
       "<td>0.0918611</td>\n",
       "<td>0.6709787</td>\n",
       "<td>-4.1848872</td>\n",
       "<td>34.1342304</td></tr>\n",
       "<tr><td></td>\n",
       "<td>12</td>\n",
       "<td>0.6016048</td>\n",
       "<td>0.2177024</td>\n",
       "<td>0.9608340</td>\n",
       "<td>1.2772234</td>\n",
       "<td>0.2600740</td>\n",
       "<td>0.2480176</td>\n",
       "<td>0.3457128</td>\n",
       "<td>0.3446676</td>\n",
       "<td>0.0974051</td>\n",
       "<td>0.7683838</td>\n",
       "<td>-3.9166001</td>\n",
       "<td>27.7223392</td></tr>\n",
       "<tr><td></td>\n",
       "<td>13</td>\n",
       "<td>0.7013964</td>\n",
       "<td>0.1838723</td>\n",
       "<td>0.6767011</td>\n",
       "<td>1.1917837</td>\n",
       "<td>0.1831662</td>\n",
       "<td>0.1940466</td>\n",
       "<td>0.3225864</td>\n",
       "<td>0.3232379</td>\n",
       "<td>0.0675291</td>\n",
       "<td>0.8359128</td>\n",
       "<td>-32.3298943</td>\n",
       "<td>19.1783730</td></tr>\n",
       "<tr><td></td>\n",
       "<td>14</td>\n",
       "<td>0.8050855</td>\n",
       "<td>0.1746898</td>\n",
       "<td>0.6928512</td>\n",
       "<td>1.1275249</td>\n",
       "<td>0.1875377</td>\n",
       "<td>0.1783366</td>\n",
       "<td>0.3051931</td>\n",
       "<td>0.3045757</td>\n",
       "<td>0.0718411</td>\n",
       "<td>0.9077539</td>\n",
       "<td>-30.7148819</td>\n",
       "<td>12.7524917</td></tr>\n",
       "<tr><td></td>\n",
       "<td>15</td>\n",
       "<td>0.9000208</td>\n",
       "<td>0.1270697</td>\n",
       "<td>0.6277750</td>\n",
       "<td>1.0748106</td>\n",
       "<td>0.1699232</td>\n",
       "<td>0.1564416</td>\n",
       "<td>0.2909247</td>\n",
       "<td>0.2889503</td>\n",
       "<td>0.0595981</td>\n",
       "<td>0.9673520</td>\n",
       "<td>-37.2225050</td>\n",
       "<td>7.4810629</td></tr>\n",
       "<tr><td></td>\n",
       "<td>16</td>\n",
       "<td>1.0</td>\n",
       "<td>0.0519661</td>\n",
       "<td>0.3265484</td>\n",
       "<td>1.0</td>\n",
       "<td>0.0883886</td>\n",
       "<td>0.0972660</td>\n",
       "<td>0.2706753</td>\n",
       "<td>0.2697859</td>\n",
       "<td>0.0326480</td>\n",
       "<td>1.0</td>\n",
       "<td>-67.3451614</td>\n",
       "<td>0.0</td></tr></table></div>"
      ],
      "text/plain": [
       "    group    cumulative_data_fraction    lower_threshold    lift      cumulative_lift    response_rate    score     cumulative_response_rate    cumulative_score    capture_rate    cumulative_capture_rate    gain      cumulative_gain\n",
       "--  -------  --------------------------  -----------------  --------  -----------------  ---------------  --------  --------------------------  ------------------  --------------  -------------------------  --------  -----------------\n",
       "    1        0.0100459                   0.536665           2.00053   2.00053            0.541494         0.585094  0.541494                    0.585094            0.020097        0.020097                   100.053   100.053\n",
       "    2        0.0200917                   0.512855           1.96987   1.9852             0.533195         0.522851  0.537344                    0.553972            0.019789        0.039886                   96.987    98.5199\n",
       "    3        0.0300125                   0.496124           1.90932   1.96012            0.516807         0.504442  0.530556                    0.5376              0.018942        0.0588281                  90.9324   96.0118\n",
       "    4        0.0400167                   0.482604           1.94729   1.95691            0.527083         0.489655  0.529687                    0.525614            0.019481        0.0783091                  94.729    95.6911\n",
       "    5        0.05                        0.467614           1.7354    1.91268            0.469729         0.474286  0.517716                    0.515365            0.017325        0.0956341                  73.5395   91.2682\n",
       "    6        0.1                         0.424793           1.73866   1.82567            0.470613         0.444023  0.494164                    0.479694            0.0869331       0.182567                   73.8662   82.5672\n",
       "    7        0.15                        0.394013           1.46762   1.70632            0.397249         0.409158  0.461859                    0.456182            0.0733811       0.255948                   46.7621   70.6322\n",
       "    8        0.2                         0.365356           1.30438   1.60584            0.353064         0.379126  0.43466                     0.436918            0.0652191       0.321167                   30.4381   60.5837\n",
       "    9        0.315298                    0.323389           1.34569   1.51071            0.364244         0.340246  0.408911                    0.401567            0.155155        0.476322                   34.5688   51.0705\n",
       "    10       0.404356                    0.303921           1.15425   1.4322             0.312427         0.313024  0.38766                     0.382066            0.102795        0.579118                   15.425    43.2197\n",
       "    11       0.500229                    0.272706           0.958151  1.34134            0.259348         0.289133  0.363068                    0.364255            0.0918611       0.670979                   -4.18489  34.1342\n",
       "    12       0.601605                    0.217702           0.960834  1.27722            0.260074         0.248018  0.345713                    0.344668            0.0974051       0.768384                   -3.9166   27.7223\n",
       "    13       0.701396                    0.183872           0.676701  1.19178            0.183166         0.194047  0.322586                    0.323238            0.0675291       0.835913                   -32.3299  19.1784\n",
       "    14       0.805085                    0.17469            0.692851  1.12752            0.187538         0.178337  0.305193                    0.304576            0.0718411       0.907754                   -30.7149  12.7525\n",
       "    15       0.900021                    0.12707            0.627775  1.07481            0.169923         0.156442  0.290925                    0.28895             0.0595981       0.967352                   -37.2225  7.48106\n",
       "    16       1                           0.0519661          0.326548  1                  0.0883886        0.097266  0.270675                    0.269786            0.032648        1                          -67.3452  0"
      ]
     },
     "metadata": {},
     "output_type": "display_data"
    },
    {
     "name": "stdout",
     "output_type": "stream",
     "text": [
      "\n"
     ]
    },
    {
     "data": {
      "text/plain": []
     },
     "execution_count": 30,
     "metadata": {},
     "output_type": "execute_result"
    }
   ],
   "source": [
    "# many validation metrics\n",
    "rptr_glm.model_performance(valid)"
   ]
  },
  {
   "cell_type": "code",
   "execution_count": 31,
   "metadata": {},
   "outputs": [
    {
     "name": "stdout",
     "output_type": "stream",
     "text": [
      "Intercept 0.9142362343476567\n",
      "offer.1198271 0.03463083385893831\n",
      "offer.1198272 0.14052728909397258\n",
      "offer.1198273 -0.028110797822582217\n",
      "offer.1198274 -0.13117283777912048\n",
      "offer.1198275 -0.07475893905600814\n",
      "offer.1200581 -0.2663110424214166\n",
      "offer.1200582 0.0\n",
      "offer.1200584 0.0\n",
      "offer.1204576 -0.13863085089106314\n",
      "offer.1204821 -0.16653161796482882\n",
      "offer.1204822 0.0\n",
      "offer.1208251 0.0\n",
      "offer.1208252 0.90290635746174\n",
      "offer.1208329 0.03988082619178288\n",
      "offer.1208501 0.4323275425518459\n",
      "offer.1208503 0.0\n",
      "offer.unknown -0.24095314385202235\n",
      "week.9 0.3882866662473721\n",
      "week.10 0.34503199800881224\n",
      "week.11 -0.3374664786715979\n",
      "week.12 0.0\n",
      "week.13 -0.3946215550940864\n",
      "week.14 -0.22160719365547848\n",
      "week.15 0.0\n",
      "week.16 -0.09617188647612415\n",
      "week.17 0.053510178998351796\n",
      "week.18 0.15565259807093573\n",
      "category.1726 -0.16996755533119035\n",
      "category.2119 0.03988082619178368\n",
      "category.2202 0.6589080081306594\n",
      "category.3504 0.0\n",
      "category.5558 -0.04144651740120281\n",
      "category.5616 -0.13863085089106691\n",
      "category.5619 -0.09783190861526495\n",
      "category.6202 0.12060177946446535\n",
      "category.unknown -0.2409531438519952\n",
      "brand.102504 -0.09783190861526239\n",
      "brand.15889 -0.13863085089106675\n",
      "brand.3718 0.6589080081306663\n",
      "brand.5072 -0.04144651740120234\n",
      "brand.64486 0.12060177946446629\n",
      "brand.6926 0.03988082619178345\n",
      "brand.7668 -0.9124249815547996\n",
      "brand.unknown 0.0\n",
      "company.104460040 0.0\n",
      "company.104610040 -0.1386308508910667\n",
      "company.107120272 -0.041446517401202365\n",
      "company.107717272 -0.09783190861526334\n",
      "company.108079383 0.03988082619178309\n",
      "company.1087744888 0.1206017794644651\n",
      "company.unknown 0.0\n",
      "dayOfWeek.Mon -0.06788130486673358\n",
      "dayOfWeek.Tue -0.001410333705654479\n",
      "dayOfWeek.Wed 0.007728177083505018\n",
      "dayOfWeek.Thu 0.0\n",
      "dayOfWeek.Fri 0.0\n",
      "dayOfWeek.Sat 0.14530381687259547\n",
      "dayOfWeek.Sun 0.1032571462037334\n",
      "exact_item_bought.0 -0.1507968420390149\n",
      "exact_item_bought.1 0.1263809799828914\n",
      "month.3 0.19741069489701107\n",
      "month.4 -0.1549780733058436\n",
      "offervalue -0.9912946388035481\n",
      "avg_category_quantity -0.03619275098428959\n",
      "avg_category_amount 0.08680975561720691\n",
      "day -0.03191424771152614\n"
     ]
    }
   ],
   "source": [
    "# print coefficients\n",
    "for key_ in rptr_glm.coef():\n",
    "    print(key_, rptr_glm.coef()[key_])"
   ]
  },
  {
   "cell_type": "code",
   "execution_count": 32,
   "metadata": {},
   "outputs": [
    {
     "data": {
      "text/html": [
       "<table>\n",
       "<thead>\n",
       "<tr><th style=\"text-align: right;\">      id</th></tr>\n",
       "</thead>\n",
       "<tbody>\n",
       "<tr><td style=\"text-align: right;\">12262064</td></tr>\n",
       "<tr><td style=\"text-align: right;\">12277270</td></tr>\n",
       "<tr><td style=\"text-align: right;\">12332190</td></tr>\n",
       "<tr><td style=\"text-align: right;\">12524696</td></tr>\n",
       "<tr><td style=\"text-align: right;\">13074629</td></tr>\n",
       "<tr><td style=\"text-align: right;\">13387341</td></tr>\n",
       "<tr><td style=\"text-align: right;\">13501141</td></tr>\n",
       "<tr><td style=\"text-align: right;\">13558712</td></tr>\n",
       "<tr><td style=\"text-align: right;\">13563017</td></tr>\n",
       "<tr><td style=\"text-align: right;\">13584134</td></tr>\n",
       "</tbody>\n",
       "</table>"
      ]
     },
     "metadata": {},
     "output_type": "display_data"
    },
    {
     "data": {
      "text/plain": []
     },
     "execution_count": 32,
     "metadata": {},
     "output_type": "execute_result"
    }
   ],
   "source": [
    "# find id == 13584134\n",
    "score_h2o['id'].asfactor().head()"
   ]
  },
  {
   "cell_type": "code",
   "execution_count": 33,
   "metadata": {},
   "outputs": [
    {
     "name": "stdout",
     "output_type": "stream",
     "text": [
      "glm prediction progress: |████████████████████████████████████████████████| 100%\n"
     ]
    },
    {
     "name": "stderr",
     "output_type": "stream",
     "text": [
      "/home/patrickh/anaconda3/lib/python3.6/site-packages/h2o/job.py:69: UserWarning: Test/Validation dataset column 'week' has levels not trained on: [19, 20, 21, 22, 23, 24, 25, 26, 27, 28, 29, 30, 31]\n",
      "  warnings.warn(w)\n",
      "/home/patrickh/anaconda3/lib/python3.6/site-packages/h2o/job.py:69: UserWarning: Test/Validation dataset column 'month' has levels not trained on: [5, 6, 7]\n",
      "  warnings.warn(w)\n"
     ]
    },
    {
     "data": {
      "text/html": [
       "<table>\n",
       "<thead>\n",
       "<tr><th style=\"text-align: right;\">  predict</th><th style=\"text-align: right;\">      p0</th><th style=\"text-align: right;\">       p1</th></tr>\n",
       "</thead>\n",
       "<tbody>\n",
       "<tr><td style=\"text-align: right;\">        0</td><td style=\"text-align: right;\">0.931928</td><td style=\"text-align: right;\">0.0680718</td></tr>\n",
       "<tr><td style=\"text-align: right;\">        0</td><td style=\"text-align: right;\">0.964497</td><td style=\"text-align: right;\">0.0355034</td></tr>\n",
       "<tr><td style=\"text-align: right;\">        0</td><td style=\"text-align: right;\">0.854873</td><td style=\"text-align: right;\">0.145127 </td></tr>\n",
       "<tr><td style=\"text-align: right;\">        0</td><td style=\"text-align: right;\">0.856192</td><td style=\"text-align: right;\">0.143808 </td></tr>\n",
       "<tr><td style=\"text-align: right;\">        0</td><td style=\"text-align: right;\">0.960205</td><td style=\"text-align: right;\">0.0397945</td></tr>\n",
       "<tr><td style=\"text-align: right;\">        0</td><td style=\"text-align: right;\">0.959612</td><td style=\"text-align: right;\">0.0403879</td></tr>\n",
       "<tr><td style=\"text-align: right;\">        0</td><td style=\"text-align: right;\">0.804033</td><td style=\"text-align: right;\">0.195967 </td></tr>\n",
       "<tr><td style=\"text-align: right;\">        1</td><td style=\"text-align: right;\">0.71045 </td><td style=\"text-align: right;\">0.28955  </td></tr>\n",
       "<tr><td style=\"text-align: right;\">        0</td><td style=\"text-align: right;\">0.868433</td><td style=\"text-align: right;\">0.131567 </td></tr>\n",
       "<tr><td style=\"text-align: right;\">        0</td><td style=\"text-align: right;\">0.893706</td><td style=\"text-align: right;\">0.106294 </td></tr>\n",
       "</tbody>\n",
       "</table>"
      ]
     },
     "metadata": {},
     "output_type": "display_data"
    },
    {
     "data": {
      "text/plain": []
     },
     "execution_count": 33,
     "metadata": {},
     "output_type": "execute_result"
    }
   ],
   "source": [
    "# get probability for id == 13584134\n",
    "rptr_glm.predict(score_h2o)"
   ]
  },
  {
   "cell_type": "code",
   "execution_count": 34,
   "metadata": {},
   "outputs": [],
   "source": [
    "# import target encoder\n",
    "from h2o.targetencoder import TargetEncoder"
   ]
  },
  {
   "cell_type": "code",
   "execution_count": 35,
   "metadata": {},
   "outputs": [],
   "source": [
    "# train target encoder\n",
    "e_columns = ['market', 'chain']\n",
    "te_ = TargetEncoder(x=e_columns, y=y)\n",
    "train[y] = train[y].asfactor()\n",
    "_ = te_.fit(train) "
   ]
  },
  {
   "cell_type": "code",
   "execution_count": 36,
   "metadata": {},
   "outputs": [],
   "source": [
    "# leave-one-out target encoding on train, valid, test\n",
    "e_train = te_.transform(frame=train, holdout_type='loo', seed=12345)\n",
    "valid[y] = valid[y].asfactor()\n",
    "e_valid = te_.transform(frame=valid, holdout_type='loo', seed=12345)\n",
    "test[y] = test[y].asfactor()\n",
    "e_test = te_.transform(frame=test, holdout_type='loo', seed=12345)"
   ]
  },
  {
   "cell_type": "code",
   "execution_count": 37,
   "metadata": {},
   "outputs": [
    {
     "data": {
      "text/html": [
       "<table>\n",
       "<thead>\n",
       "<tr><th style=\"text-align: right;\">  chain</th><th style=\"text-align: right;\">  market</th><th style=\"text-align: right;\">         id</th><th>offer  </th><th style=\"text-align: right;\">  repeater</th><th>offerdate          </th><th>category  </th><th style=\"text-align: right;\">  quantity</th><th>company  </th><th style=\"text-align: right;\">  offervalue</th><th>brand  </th><th style=\"text-align: right;\">  avg_category_quantity</th><th style=\"text-align: right;\">  avg_category_amount</th><th style=\"text-align: right;\">  exact_item_bought</th><th style=\"text-align: right;\">  month</th><th style=\"text-align: right;\">  week</th><th>dayOfWeek  </th><th style=\"text-align: right;\">  day</th><th style=\"text-align: right;\">  market_te</th><th style=\"text-align: right;\">  chain_te</th></tr>\n",
       "</thead>\n",
       "<tbody>\n",
       "<tr><td style=\"text-align: right;\">     10</td><td style=\"text-align: right;\">       5</td><td style=\"text-align: right;\">2.55092e+08</td><td>unknown</td><td style=\"text-align: right;\">         0</td><td>2013-03-14 00:00:00</td><td>unknown   </td><td style=\"text-align: right;\">         1</td><td>unknown  </td><td style=\"text-align: right;\">           2</td><td>unknown</td><td style=\"text-align: right;\">                      1</td><td style=\"text-align: right;\">                 9.99</td><td style=\"text-align: right;\">                  1</td><td style=\"text-align: right;\">      3</td><td style=\"text-align: right;\">    11</td><td>Thu        </td><td style=\"text-align: right;\">   14</td><td style=\"text-align: right;\">   0.162703</td><td style=\"text-align: right;\">  0.160728</td></tr>\n",
       "<tr><td style=\"text-align: right;\">     10</td><td style=\"text-align: right;\">       5</td><td style=\"text-align: right;\">2.66075e+08</td><td>1204576</td><td style=\"text-align: right;\">         1</td><td>2013-04-04 00:00:00</td><td>5616      </td><td style=\"text-align: right;\">         1</td><td>104610040</td><td style=\"text-align: right;\">           1</td><td>15889  </td><td style=\"text-align: right;\">                      1</td><td style=\"text-align: right;\">                 2.79</td><td style=\"text-align: right;\">                  1</td><td style=\"text-align: right;\">      4</td><td style=\"text-align: right;\">    14</td><td>Thu        </td><td style=\"text-align: right;\">    4</td><td style=\"text-align: right;\">   0.125308</td><td style=\"text-align: right;\">  0.124052</td></tr>\n",
       "</tbody>\n",
       "</table>"
      ]
     },
     "metadata": {},
     "output_type": "display_data"
    },
    {
     "data": {
      "text/plain": []
     },
     "execution_count": 37,
     "metadata": {},
     "output_type": "execute_result"
    }
   ],
   "source": [
    "# check train\n",
    "e_train.head(rows=2)"
   ]
  },
  {
   "cell_type": "code",
   "execution_count": 38,
   "metadata": {},
   "outputs": [
    {
     "data": {
      "text/html": [
       "<table>\n",
       "<thead>\n",
       "<tr><th style=\"text-align: right;\">  chain</th><th style=\"text-align: right;\">  market</th><th style=\"text-align: right;\">         id</th><th>offer  </th><th style=\"text-align: right;\">  repeater</th><th>offerdate          </th><th>category  </th><th style=\"text-align: right;\">  quantity</th><th>company  </th><th style=\"text-align: right;\">  offervalue</th><th>brand  </th><th style=\"text-align: right;\">  avg_category_quantity</th><th style=\"text-align: right;\">  avg_category_amount</th><th style=\"text-align: right;\">  exact_item_bought</th><th style=\"text-align: right;\">  month</th><th style=\"text-align: right;\">  week</th><th>dayOfWeek  </th><th style=\"text-align: right;\">  day</th><th style=\"text-align: right;\">  market_te</th><th style=\"text-align: right;\">  chain_te</th></tr>\n",
       "</thead>\n",
       "<tbody>\n",
       "<tr><td style=\"text-align: right;\">     10</td><td style=\"text-align: right;\">       5</td><td style=\"text-align: right;\">2.54652e+08</td><td>1198275</td><td style=\"text-align: right;\">         0</td><td>2013-03-27 00:00:00</td><td>5558      </td><td style=\"text-align: right;\">         1</td><td>107120272</td><td style=\"text-align: right;\">        1.5 </td><td>5072   </td><td style=\"text-align: right;\">                    1.4</td><td style=\"text-align: right;\">                  1.8</td><td style=\"text-align: right;\">                  1</td><td style=\"text-align: right;\">      3</td><td style=\"text-align: right;\">    13</td><td>Wed        </td><td style=\"text-align: right;\">   27</td><td style=\"text-align: right;\">   0.158439</td><td style=\"text-align: right;\">  0.160728</td></tr>\n",
       "<tr><td style=\"text-align: right;\">     10</td><td style=\"text-align: right;\">       5</td><td style=\"text-align: right;\">2.54734e+08</td><td>unknown</td><td style=\"text-align: right;\">         0</td><td>2013-04-24 00:00:00</td><td>unknown   </td><td style=\"text-align: right;\">         1</td><td>unknown  </td><td style=\"text-align: right;\">        0.75</td><td>unknown</td><td style=\"text-align: right;\">                    0  </td><td style=\"text-align: right;\">                  0  </td><td style=\"text-align: right;\">                  0</td><td style=\"text-align: right;\">      4</td><td style=\"text-align: right;\">    17</td><td>Wed        </td><td style=\"text-align: right;\">   24</td><td style=\"text-align: right;\">   0.150508</td><td style=\"text-align: right;\">  0.165719</td></tr>\n",
       "</tbody>\n",
       "</table>"
      ]
     },
     "metadata": {},
     "output_type": "display_data"
    },
    {
     "data": {
      "text/plain": []
     },
     "execution_count": 38,
     "metadata": {},
     "output_type": "execute_result"
    }
   ],
   "source": [
    "# check valid\n",
    "e_valid.head(rows=2)"
   ]
  },
  {
   "cell_type": "code",
   "execution_count": 39,
   "metadata": {},
   "outputs": [
    {
     "data": {
      "text/html": [
       "<table>\n",
       "<thead>\n",
       "<tr><th style=\"text-align: right;\">  chain</th><th style=\"text-align: right;\">  market</th><th style=\"text-align: right;\">         id</th><th>offer  </th><th style=\"text-align: right;\">  repeater</th><th>offerdate          </th><th>category  </th><th style=\"text-align: right;\">  quantity</th><th>company  </th><th style=\"text-align: right;\">  offervalue</th><th>brand  </th><th style=\"text-align: right;\">  avg_category_quantity</th><th style=\"text-align: right;\">  avg_category_amount</th><th style=\"text-align: right;\">  exact_item_bought</th><th style=\"text-align: right;\">  month</th><th style=\"text-align: right;\">  week</th><th>dayOfWeek  </th><th style=\"text-align: right;\">  day</th><th style=\"text-align: right;\">  market_te</th><th style=\"text-align: right;\">  chain_te</th></tr>\n",
       "</thead>\n",
       "<tbody>\n",
       "<tr><td style=\"text-align: right;\">     10</td><td style=\"text-align: right;\">       5</td><td style=\"text-align: right;\">2.58623e+08</td><td>1198271</td><td style=\"text-align: right;\">         0</td><td>2013-03-25 00:00:00</td><td>5558      </td><td style=\"text-align: right;\">         1</td><td>107120272</td><td style=\"text-align: right;\">        1.5 </td><td>5072   </td><td style=\"text-align: right;\">                      3</td><td style=\"text-align: right;\">              3.66667</td><td style=\"text-align: right;\">                  1</td><td style=\"text-align: right;\">      3</td><td style=\"text-align: right;\">    13</td><td>Mon        </td><td style=\"text-align: right;\">   25</td><td style=\"text-align: right;\">   0.163404</td><td style=\"text-align: right;\">  0.160728</td></tr>\n",
       "<tr><td style=\"text-align: right;\">     10</td><td style=\"text-align: right;\">       5</td><td style=\"text-align: right;\">2.58693e+08</td><td>unknown</td><td style=\"text-align: right;\">         1</td><td>2013-03-29 00:00:00</td><td>unknown   </td><td style=\"text-align: right;\">         1</td><td>unknown  </td><td style=\"text-align: right;\">        0.75</td><td>unknown</td><td style=\"text-align: right;\">                      0</td><td style=\"text-align: right;\">              0      </td><td style=\"text-align: right;\">                  0</td><td style=\"text-align: right;\">      3</td><td style=\"text-align: right;\">    13</td><td>Fri        </td><td style=\"text-align: right;\">   29</td><td style=\"text-align: right;\">   0.121452</td><td style=\"text-align: right;\">  0.124052</td></tr>\n",
       "</tbody>\n",
       "</table>"
      ]
     },
     "metadata": {},
     "output_type": "display_data"
    },
    {
     "data": {
      "text/plain": []
     },
     "execution_count": 39,
     "metadata": {},
     "output_type": "execute_result"
    }
   ],
   "source": [
    "# check test \n",
    "e_test.head(rows=2)"
   ]
  },
  {
   "cell_type": "code",
   "execution_count": 40,
   "metadata": {},
   "outputs": [
    {
     "data": {
      "text/html": [
       "<table>\n",
       "<thead>\n",
       "<tr><th style=\"text-align: right;\">       id</th></tr>\n",
       "</thead>\n",
       "<tbody>\n",
       "<tr><td style=\"text-align: right;\">258623302</td></tr>\n",
       "<tr><td style=\"text-align: right;\">258692579</td></tr>\n",
       "</tbody>\n",
       "</table>"
      ]
     },
     "metadata": {},
     "output_type": "display_data"
    },
    {
     "data": {
      "text/plain": []
     },
     "execution_count": 40,
     "metadata": {},
     "output_type": "execute_result"
    }
   ],
   "source": [
    "e_test['id'].asfactor().head(rows=2)"
   ]
  },
  {
   "cell_type": "code",
   "execution_count": 41,
   "metadata": {},
   "outputs": [
    {
     "name": "stdout",
     "output_type": "stream",
     "text": [
      "['offer', 'category', 'company', 'offervalue', 'brand', 'avg_category_quantity', 'avg_category_amount', 'exact_item_bought', 'month', 'week', 'dayOfWeek', 'day', 'market_te', 'chain_te']\n"
     ]
    }
   ],
   "source": [
    "X = X + ['market_te', 'chain_te']\n",
    "print(X)"
   ]
  },
  {
   "cell_type": "code",
   "execution_count": 42,
   "metadata": {},
   "outputs": [],
   "source": [
    "# import GBM and grid search\n",
    "from h2o.estimators.gbm import H2OGradientBoostingEstimator \n",
    "from h2o.grid.grid_search import H2OGridSearch"
   ]
  },
  {
   "cell_type": "code",
   "execution_count": 43,
   "metadata": {},
   "outputs": [
    {
     "name": "stdout",
     "output_type": "stream",
     "text": [
      "gbm Grid Build progress: |████████████████████████████████████████████████| 100%\n"
     ]
    }
   ],
   "source": [
    "# GBM with random hyperparameter search\n",
    "# train many different GBM models with random hyperparameters\n",
    "# and select best model based on validation error\n",
    "\n",
    "# define random grid search parameters\n",
    "hyper_parameters = {'ntrees':list(range(50, 500, 50)),\n",
    "                    'max_depth':list(range(2, 20, 2)),\n",
    "                    'sample_rate':[s/float(10) for s in range(1, 11)],\n",
    "                    'col_sample_rate':[s/float(10) for s in range(1, 11)]}\n",
    "\n",
    "# define search strategy\n",
    "search_criteria = {'strategy':'RandomDiscrete',\n",
    "                   'max_models':50,\n",
    "                   'max_runtime_secs':1200, \n",
    "                   'seed': 12345}\n",
    "\n",
    "# initialize grid search\n",
    "gsearch = H2OGridSearch(H2OGradientBoostingEstimator,\n",
    "                        hyper_params=hyper_parameters,\n",
    "                        search_criteria=search_criteria)\n",
    "\n",
    "# execute training w/ grid search\n",
    "gsearch.train(x=X,\n",
    "              y=y,\n",
    "              training_frame=e_train,\n",
    "              validation_frame=e_valid, \n",
    "              seed=12345)\n",
    "\n",
    "# view detailed results at http://localhost:54321/flow/index.html"
   ]
  },
  {
   "cell_type": "code",
   "execution_count": 44,
   "metadata": {},
   "outputs": [
    {
     "name": "stdout",
     "output_type": "stream",
     "text": [
      "     col_sample_rate max_depth ntrees sample_rate  \\\n",
      "0                0.9         6    250         1.0   \n",
      "1                0.4         6    150         0.9   \n",
      "2                0.4         4    300         0.9   \n",
      "3                1.0         4    300         0.5   \n",
      "4                0.4         6    100         1.0   \n",
      "5                1.0         2    400         0.9   \n",
      "6                0.1        10    350         0.8   \n",
      "7                1.0         4    250         0.3   \n",
      "8                0.1         6    150         0.9   \n",
      "9                0.1        10    350         0.6   \n",
      "10               0.2         8    150         0.5   \n",
      "11               0.1        10    250         0.7   \n",
      "12               0.6         4     50         0.6   \n",
      "13               0.8         8    100         0.6   \n",
      "14               1.0         4     50         0.3   \n",
      "15               0.8         4     50         0.3   \n",
      "16               0.1        14    350         0.5   \n",
      "17               1.0         8     50         0.3   \n",
      "18               0.2         8    300         0.4   \n",
      "19               0.1        12    100         0.1   \n",
      "20               0.4        10    350         0.7   \n",
      "21               0.7        12    150         1.0   \n",
      "22               0.9         6    350         0.4   \n",
      "23               1.0        12     50         1.0   \n",
      "24               0.2         6    350         0.1   \n",
      "25               0.6         6    300         0.2   \n",
      "26               0.4        14    250         1.0   \n",
      "27               0.4        14    200         1.0   \n",
      "28               0.9         8    150         0.2   \n",
      "29               1.0        12    300         0.7   \n",
      "30               0.9         8    250         0.3   \n",
      "31               0.3        16     50         0.4   \n",
      "32               1.0        14     50         0.3   \n",
      "33               0.9        14    400         0.7   \n",
      "34               0.2        16    250         0.5   \n",
      "35               0.6        16    400         0.9   \n",
      "36               0.8        16     50         0.9   \n",
      "37               0.5         8    400         0.2   \n",
      "38               0.9        16    400         0.7   \n",
      "39               0.7        18     50         0.6   \n",
      "40               0.9        12    150         0.4   \n",
      "41               0.7         8    350         0.1   \n",
      "42               0.5        12    200         0.3   \n",
      "43               0.9        16    100         0.1   \n",
      "44               0.8        18    250         0.6   \n",
      "45               0.8        10    450         0.3   \n",
      "46               0.6        12    350         0.1   \n",
      "47               0.7        18    200         0.1   \n",
      "48               0.5        18    400         0.1   \n",
      "49               0.9        16    400         0.2   \n",
      "\n",
      "                                                         model_ids  \\\n",
      "0   Grid_GBM_py_29_sid_8290_model_python_1554643783238_15_model_11   \n",
      "1   Grid_GBM_py_29_sid_8290_model_python_1554643783238_15_model_32   \n",
      "2   Grid_GBM_py_29_sid_8290_model_python_1554643783238_15_model_10   \n",
      "3   Grid_GBM_py_29_sid_8290_model_python_1554643783238_15_model_27   \n",
      "4   Grid_GBM_py_29_sid_8290_model_python_1554643783238_15_model_43   \n",
      "5    Grid_GBM_py_29_sid_8290_model_python_1554643783238_15_model_1   \n",
      "6    Grid_GBM_py_29_sid_8290_model_python_1554643783238_15_model_2   \n",
      "7   Grid_GBM_py_29_sid_8290_model_python_1554643783238_15_model_33   \n",
      "8   Grid_GBM_py_29_sid_8290_model_python_1554643783238_15_model_29   \n",
      "9   Grid_GBM_py_29_sid_8290_model_python_1554643783238_15_model_31   \n",
      "10  Grid_GBM_py_29_sid_8290_model_python_1554643783238_15_model_16   \n",
      "11  Grid_GBM_py_29_sid_8290_model_python_1554643783238_15_model_12   \n",
      "12   Grid_GBM_py_29_sid_8290_model_python_1554643783238_15_model_3   \n",
      "13  Grid_GBM_py_29_sid_8290_model_python_1554643783238_15_model_50   \n",
      "14  Grid_GBM_py_29_sid_8290_model_python_1554643783238_15_model_28   \n",
      "15  Grid_GBM_py_29_sid_8290_model_python_1554643783238_15_model_14   \n",
      "16  Grid_GBM_py_29_sid_8290_model_python_1554643783238_15_model_25   \n",
      "17  Grid_GBM_py_29_sid_8290_model_python_1554643783238_15_model_22   \n",
      "18  Grid_GBM_py_29_sid_8290_model_python_1554643783238_15_model_39   \n",
      "19  Grid_GBM_py_29_sid_8290_model_python_1554643783238_15_model_42   \n",
      "20   Grid_GBM_py_29_sid_8290_model_python_1554643783238_15_model_8   \n",
      "21  Grid_GBM_py_29_sid_8290_model_python_1554643783238_15_model_47   \n",
      "22  Grid_GBM_py_29_sid_8290_model_python_1554643783238_15_model_34   \n",
      "23  Grid_GBM_py_29_sid_8290_model_python_1554643783238_15_model_41   \n",
      "24  Grid_GBM_py_29_sid_8290_model_python_1554643783238_15_model_15   \n",
      "25  Grid_GBM_py_29_sid_8290_model_python_1554643783238_15_model_30   \n",
      "26  Grid_GBM_py_29_sid_8290_model_python_1554643783238_15_model_24   \n",
      "27   Grid_GBM_py_29_sid_8290_model_python_1554643783238_15_model_4   \n",
      "28  Grid_GBM_py_29_sid_8290_model_python_1554643783238_15_model_45   \n",
      "29  Grid_GBM_py_29_sid_8290_model_python_1554643783238_15_model_21   \n",
      "30  Grid_GBM_py_29_sid_8290_model_python_1554643783238_15_model_38   \n",
      "31   Grid_GBM_py_29_sid_8290_model_python_1554643783238_15_model_5   \n",
      "32  Grid_GBM_py_29_sid_8290_model_python_1554643783238_15_model_35   \n",
      "33   Grid_GBM_py_29_sid_8290_model_python_1554643783238_15_model_7   \n",
      "34  Grid_GBM_py_29_sid_8290_model_python_1554643783238_15_model_36   \n",
      "35  Grid_GBM_py_29_sid_8290_model_python_1554643783238_15_model_20   \n",
      "36  Grid_GBM_py_29_sid_8290_model_python_1554643783238_15_model_23   \n",
      "37  Grid_GBM_py_29_sid_8290_model_python_1554643783238_15_model_13   \n",
      "38  Grid_GBM_py_29_sid_8290_model_python_1554643783238_15_model_26   \n",
      "39  Grid_GBM_py_29_sid_8290_model_python_1554643783238_15_model_17   \n",
      "40  Grid_GBM_py_29_sid_8290_model_python_1554643783238_15_model_49   \n",
      "41  Grid_GBM_py_29_sid_8290_model_python_1554643783238_15_model_19   \n",
      "42  Grid_GBM_py_29_sid_8290_model_python_1554643783238_15_model_48   \n",
      "43  Grid_GBM_py_29_sid_8290_model_python_1554643783238_15_model_40   \n",
      "44  Grid_GBM_py_29_sid_8290_model_python_1554643783238_15_model_37   \n",
      "45  Grid_GBM_py_29_sid_8290_model_python_1554643783238_15_model_46   \n",
      "46   Grid_GBM_py_29_sid_8290_model_python_1554643783238_15_model_6   \n",
      "47  Grid_GBM_py_29_sid_8290_model_python_1554643783238_15_model_44   \n",
      "48  Grid_GBM_py_29_sid_8290_model_python_1554643783238_15_model_18   \n",
      "49   Grid_GBM_py_29_sid_8290_model_python_1554643783238_15_model_9   \n",
      "\n",
      "               logloss  \n",
      "0   0.5348834983989057  \n",
      "1   0.5350291550847558  \n",
      "2   0.5350894789165441  \n",
      "3    0.535248031739906  \n",
      "4   0.5354232866015268  \n",
      "5    0.536646342786623  \n",
      "6    0.537452131939599  \n",
      "7   0.5376479557679856  \n",
      "8   0.5378304173039002  \n",
      "9   0.5378854566021242  \n",
      "10  0.5380053569351866  \n",
      "11  0.5380773747073453  \n",
      "12  0.5386174767148093  \n",
      "13  0.5388992002840919  \n",
      "14  0.5391120670305152  \n",
      "15  0.5391530686859511  \n",
      "16  0.5393710636142622  \n",
      "17   0.540390311161104  \n",
      "18  0.5416671715429446  \n",
      "19  0.5419625334634491  \n",
      "20  0.5426712431838964  \n",
      "21  0.5432625381356367  \n",
      "22  0.5432646516697345  \n",
      "23  0.5451345163682967  \n",
      "24  0.5458733104268865  \n",
      "25   0.545909460632734  \n",
      "26  0.5498716819062104  \n",
      "27  0.5498716819062104  \n",
      "28  0.5499028994766184  \n",
      "29  0.5502053659777679  \n",
      "30  0.5558261784124103  \n",
      "31   0.557359195507266  \n",
      "32  0.5581103738596365  \n",
      "33  0.5584909832655498  \n",
      "34  0.5588497425482545  \n",
      "35  0.5617982925457293  \n",
      "36  0.5625896941243087  \n",
      "37  0.5654485751617531  \n",
      "38  0.5713129537881524  \n",
      "39  0.5713801530621511  \n",
      "40   0.574567832157054  \n",
      "41  0.5748519555317287  \n",
      "42  0.5825993745923173  \n",
      "43  0.5871166938602922  \n",
      "44  0.5994404448481553  \n",
      "45  0.6146780634348513  \n",
      "46  0.6200616332955663  \n",
      "47  0.6294138163966044  \n",
      "48  0.6860690534310121  \n",
      "49  0.7170542574246234  \n"
     ]
    }
   ],
   "source": [
    "# show grid search results\n",
    "gsearch.show()\n",
    "\n",
    "# select best model\n",
    "gbm_model = gsearch.get_grid()[0]"
   ]
  },
  {
   "cell_type": "code",
   "execution_count": 45,
   "metadata": {
    "scrolled": true
   },
   "outputs": [
    {
     "data": {
      "text/plain": [
       "0.7372164154988929"
      ]
     },
     "execution_count": 45,
     "metadata": {},
     "output_type": "execute_result"
    }
   ],
   "source": [
    "# train AUC\n",
    "gbm_model.auc(valid=False)"
   ]
  },
  {
   "cell_type": "code",
   "execution_count": 46,
   "metadata": {},
   "outputs": [
    {
     "data": {
      "text/plain": [
       "0.6955609131044218"
      ]
     },
     "execution_count": 46,
     "metadata": {},
     "output_type": "execute_result"
    }
   ],
   "source": [
    "# valid AUC\n",
    "gbm_model.auc(valid=True)"
   ]
  },
  {
   "cell_type": "code",
   "execution_count": 47,
   "metadata": {},
   "outputs": [
    {
     "data": {
      "text/plain": [
       "0.7033280640065208"
      ]
     },
     "execution_count": 47,
     "metadata": {},
     "output_type": "execute_result"
    }
   ],
   "source": [
    "# test AUC\n",
    "gbm_model.model_performance(e_test).auc()"
   ]
  },
  {
   "cell_type": "code",
   "execution_count": 48,
   "metadata": {},
   "outputs": [
    {
     "data": {
      "image/png": "[encoded data removed]",
      "text/plain": [
       "<Figure size 1008x720 with 1 Axes>"
      ]
     },
     "metadata": {},
     "output_type": "display_data"
    }
   ],
   "source": [
    "# examine variable importance\n",
    "%matplotlib inline\n",
    "gbm_model.varimp_plot()"
   ]
  },
  {
   "cell_type": "code",
   "execution_count": 49,
   "metadata": {},
   "outputs": [
    {
     "data": {
      "text/plain": [
       "['chain_te',\n",
       " 'week',\n",
       " 'avg_category_amount',\n",
       " 'avg_category_quantity',\n",
       " 'market_te',\n",
       " 'offer',\n",
       " 'offervalue',\n",
       " 'dayOfWeek',\n",
       " 'brand',\n",
       " 'day']"
      ]
     },
     "execution_count": 49,
     "metadata": {},
     "output_type": "execute_result"
    }
   ],
   "source": [
    "# make list of most important variables\n",
    "important_vars = [row[0] for row in gbm_model.varimp()]\n",
    "important_vars[:10]"
   ]
  },
  {
   "cell_type": "code",
   "execution_count": 50,
   "metadata": {},
   "outputs": [
    {
     "name": "stdout",
     "output_type": "stream",
     "text": [
      "PartialDependencePlot progress: |█████████████████████████████████████████| 100%\n"
     ]
    },
    {
     "data": {
      "image/png": "[encoded data removed]",
      "text/plain": [
       "<Figure size 504x720 with 1 Axes>"
      ]
     },
     "metadata": {},
     "output_type": "display_data"
    }
   ],
   "source": [
    "# generate partial dependence plot for most important variable\n",
    "_ = gbm_model.partial_plot(data=e_test, cols=[important_vars[0]], server=True, plot=True)"
   ]
  },
  {
   "cell_type": "code",
   "execution_count": 51,
   "metadata": {},
   "outputs": [
    {
     "name": "stdout",
     "output_type": "stream",
     "text": [
      "['chain_te', 'week', 'avg_category_amount', 'avg_category_quantity', 'market_te', 'offer', 'offervalue', 'dayOfWeek', 'brand', 'day']\n"
     ]
    }
   ],
   "source": [
    "# update X to contain only ten most important variables\n",
    "X = important_vars[:10]\n",
    "print(X)"
   ]
  },
  {
   "cell_type": "code",
   "execution_count": 52,
   "metadata": {},
   "outputs": [
    {
     "name": "stdout",
     "output_type": "stream",
     "text": [
      "deeplearning Grid Build progress: |███████████████████████████████████████| 100%\n"
     ]
    }
   ],
   "source": [
    "# import mlp\n",
    "from h2o.estimators.deeplearning import H2ODeepLearningEstimator\n",
    "\n",
    "# NN with random hyperparameter search\n",
    "# train many different NN models with random hyperparameters\n",
    "# and select best model based on validation error\n",
    "\n",
    "# define random grid search parameters\n",
    "hyper_parameters = {'hidden':[[170, 320], [80, 190], [320, 160, 80], [100], [50, 50, 50, 50]],\n",
    "                    'l1':[s/1e4 for s in range(0, 1000, 100)],\n",
    "                    'l2':[s/1e5 for s in range(0, 1000, 100)],\n",
    "                    'input_dropout_ratio':[s/1e2 for s in range(0, 20, 2)]}\n",
    "\n",
    "# define search strategy\n",
    "search_criteria = {'strategy':'RandomDiscrete',\n",
    "                   'max_models':50,\n",
    "                   'max_runtime_secs':1800, \n",
    "                   'seed': 12345}\n",
    "\n",
    "# initialize grid search\n",
    "gsearch = H2OGridSearch(H2ODeepLearningEstimator,\n",
    "                        hyper_params=hyper_parameters,\n",
    "                        search_criteria=search_criteria)\n",
    "\n",
    "# execute training w/ grid search\n",
    "gsearch.train(x=X,\n",
    "              y=y,\n",
    "              training_frame=e_train,\n",
    "              validation_frame=e_valid, \n",
    "              seed=12345)\n",
    "\n",
    "# view detailed results at http://localhost:54321/flow/index.html"
   ]
  },
  {
   "cell_type": "code",
   "execution_count": 53,
   "metadata": {},
   "outputs": [
    {
     "name": "stdout",
     "output_type": "stream",
     "text": [
      "                hidden input_dropout_ratio    l1     l2  \\\n",
      "0     [50, 50, 50, 50]                 0.1   0.0  0.002   \n",
      "1           [170, 320]                0.16   0.0  0.008   \n",
      "2                [100]                0.14  0.01  0.006   \n",
      "3                [100]                0.14  0.01  0.001   \n",
      "4                [100]                0.06  0.02  0.006   \n",
      "5                [100]                0.06  0.05  0.008   \n",
      "6                [100]                 0.0  0.08  0.003   \n",
      "7                [100]                0.18  0.03  0.009   \n",
      "8                [100]                0.14  0.04  0.009   \n",
      "9                [100]                0.04  0.07  0.003   \n",
      "10               [100]                0.16  0.07  0.002   \n",
      "11               [100]                0.04  0.07  0.009   \n",
      "12               [100]                0.02  0.05  0.008   \n",
      "13               [100]                0.16  0.06  0.006   \n",
      "14               [100]                0.12  0.06  0.001   \n",
      "15               [100]                0.14  0.08    0.0   \n",
      "16               [100]                0.12  0.09  0.009   \n",
      "17    [50, 50, 50, 50]                0.04  0.09  0.004   \n",
      "18    [50, 50, 50, 50]                0.08  0.09  0.001   \n",
      "19           [80, 190]                0.02  0.09    0.0   \n",
      "20    [50, 50, 50, 50]                 0.1  0.08  0.009   \n",
      "21          [170, 320]                 0.1  0.08  0.007   \n",
      "22          [170, 320]                0.14  0.08  0.006   \n",
      "23          [170, 320]                0.06  0.07  0.005   \n",
      "24           [80, 190]                0.02  0.07  0.004   \n",
      "25          [170, 320]                0.08  0.07    0.0   \n",
      "26          [170, 320]                0.12  0.06  0.004   \n",
      "27      [320, 160, 80]                0.14  0.06  0.002   \n",
      "28    [50, 50, 50, 50]                0.02  0.06  0.002   \n",
      "29          [170, 320]                0.18  0.06    0.0   \n",
      "30           [80, 190]                0.02  0.05  0.009   \n",
      "31      [320, 160, 80]                0.18  0.05  0.002   \n",
      "32           [80, 190]                 0.1  0.05    0.0   \n",
      "33    [50, 50, 50, 50]                0.02  0.04  0.008   \n",
      "34      [320, 160, 80]                0.18  0.04  0.008   \n",
      "35      [320, 160, 80]                0.06  0.04  0.005   \n",
      "36           [80, 190]                 0.0  0.04  0.004   \n",
      "37           [80, 190]                0.12  0.04  0.003   \n",
      "38    [50, 50, 50, 50]                0.06  0.04  0.002   \n",
      "39          [170, 320]                0.12  0.04  0.001   \n",
      "40          [170, 320]                0.16  0.03  0.008   \n",
      "41    [50, 50, 50, 50]                0.16  0.03  0.006   \n",
      "42      [320, 160, 80]                0.14  0.02  0.005   \n",
      "43          [170, 320]                0.06  0.02  0.005   \n",
      "44           [80, 190]                 0.0  0.02  0.005   \n",
      "45      [320, 160, 80]                 0.0  0.01  0.003   \n",
      "46    [50, 50, 50, 50]                0.16  0.01  0.002   \n",
      "47    [50, 50, 50, 50]                0.02  0.01  0.002   \n",
      "48    [50, 50, 50, 50]                0.08  0.01    0.0   \n",
      "49           [80, 190]                0.18  0.01    0.0   \n",
      "\n",
      "                                                                model_ids  \\\n",
      "0   Grid_DeepLearning_py_29_sid_8290_model_python_1554643783238_3765_m...   \n",
      "1   Grid_DeepLearning_py_29_sid_8290_model_python_1554643783238_3765_m...   \n",
      "2   Grid_DeepLearning_py_29_sid_8290_model_python_1554643783238_3765_m...   \n",
      "3   Grid_DeepLearning_py_29_sid_8290_model_python_1554643783238_3765_m...   \n",
      "4   Grid_DeepLearning_py_29_sid_8290_model_python_1554643783238_3765_m...   \n",
      "5   Grid_DeepLearning_py_29_sid_8290_model_python_1554643783238_3765_m...   \n",
      "6   Grid_DeepLearning_py_29_sid_8290_model_python_1554643783238_3765_m...   \n",
      "7   Grid_DeepLearning_py_29_sid_8290_model_python_1554643783238_3765_m...   \n",
      "8   Grid_DeepLearning_py_29_sid_8290_model_python_1554643783238_3765_m...   \n",
      "9   Grid_DeepLearning_py_29_sid_8290_model_python_1554643783238_3765_m...   \n",
      "10  Grid_DeepLearning_py_29_sid_8290_model_python_1554643783238_3765_m...   \n",
      "11  Grid_DeepLearning_py_29_sid_8290_model_python_1554643783238_3765_m...   \n",
      "12  Grid_DeepLearning_py_29_sid_8290_model_python_1554643783238_3765_m...   \n",
      "13  Grid_DeepLearning_py_29_sid_8290_model_python_1554643783238_3765_m...   \n",
      "14  Grid_DeepLearning_py_29_sid_8290_model_python_1554643783238_3765_m...   \n",
      "15  Grid_DeepLearning_py_29_sid_8290_model_python_1554643783238_3765_m...   \n",
      "16  Grid_DeepLearning_py_29_sid_8290_model_python_1554643783238_3765_m...   \n",
      "17  Grid_DeepLearning_py_29_sid_8290_model_python_1554643783238_3765_m...   \n",
      "18  Grid_DeepLearning_py_29_sid_8290_model_python_1554643783238_3765_m...   \n",
      "19  Grid_DeepLearning_py_29_sid_8290_model_python_1554643783238_3765_m...   \n",
      "20  Grid_DeepLearning_py_29_sid_8290_model_python_1554643783238_3765_m...   \n",
      "21  Grid_DeepLearning_py_29_sid_8290_model_python_1554643783238_3765_m...   \n",
      "22  Grid_DeepLearning_py_29_sid_8290_model_python_1554643783238_3765_m...   \n",
      "23  Grid_DeepLearning_py_29_sid_8290_model_python_1554643783238_3765_m...   \n",
      "24  Grid_DeepLearning_py_29_sid_8290_model_python_1554643783238_3765_m...   \n",
      "25  Grid_DeepLearning_py_29_sid_8290_model_python_1554643783238_3765_m...   \n",
      "26  Grid_DeepLearning_py_29_sid_8290_model_python_1554643783238_3765_m...   \n",
      "27  Grid_DeepLearning_py_29_sid_8290_model_python_1554643783238_3765_m...   \n",
      "28  Grid_DeepLearning_py_29_sid_8290_model_python_1554643783238_3765_m...   \n",
      "29  Grid_DeepLearning_py_29_sid_8290_model_python_1554643783238_3765_m...   \n",
      "30  Grid_DeepLearning_py_29_sid_8290_model_python_1554643783238_3765_m...   \n",
      "31  Grid_DeepLearning_py_29_sid_8290_model_python_1554643783238_3765_m...   \n",
      "32  Grid_DeepLearning_py_29_sid_8290_model_python_1554643783238_3765_m...   \n",
      "33  Grid_DeepLearning_py_29_sid_8290_model_python_1554643783238_3765_m...   \n",
      "34  Grid_DeepLearning_py_29_sid_8290_model_python_1554643783238_3765_m...   \n",
      "35  Grid_DeepLearning_py_29_sid_8290_model_python_1554643783238_3765_m...   \n",
      "36  Grid_DeepLearning_py_29_sid_8290_model_python_1554643783238_3765_m...   \n",
      "37  Grid_DeepLearning_py_29_sid_8290_model_python_1554643783238_3765_m...   \n",
      "38  Grid_DeepLearning_py_29_sid_8290_model_python_1554643783238_3765_m...   \n",
      "39  Grid_DeepLearning_py_29_sid_8290_model_python_1554643783238_3765_m...   \n",
      "40  Grid_DeepLearning_py_29_sid_8290_model_python_1554643783238_3765_m...   \n",
      "41  Grid_DeepLearning_py_29_sid_8290_model_python_1554643783238_3765_m...   \n",
      "42  Grid_DeepLearning_py_29_sid_8290_model_python_1554643783238_3765_m...   \n",
      "43  Grid_DeepLearning_py_29_sid_8290_model_python_1554643783238_3765_m...   \n",
      "44  Grid_DeepLearning_py_29_sid_8290_model_python_1554643783238_3765_m...   \n",
      "45  Grid_DeepLearning_py_29_sid_8290_model_python_1554643783238_3765_m...   \n",
      "46  Grid_DeepLearning_py_29_sid_8290_model_python_1554643783238_3765_m...   \n",
      "47  Grid_DeepLearning_py_29_sid_8290_model_python_1554643783238_3765_m...   \n",
      "48  Grid_DeepLearning_py_29_sid_8290_model_python_1554643783238_3765_m...   \n",
      "49  Grid_DeepLearning_py_29_sid_8290_model_python_1554643783238_3765_m...   \n",
      "\n",
      "               logloss  \n",
      "0   0.5441277425619976  \n",
      "1   0.5468463763679692  \n",
      "2   0.5506008410750938  \n",
      "3   0.5506723146192487  \n",
      "4   0.5606036290296568  \n",
      "5   0.5839340260871398  \n",
      "6   0.5839911584694784  \n",
      "7   0.5844394972593425  \n",
      "8   0.5846837953814987  \n",
      "9   0.5849682481160456  \n",
      "10  0.5850026388614178  \n",
      "11  0.5851131278900356  \n",
      "12  0.5857919095875189  \n",
      "13  0.5858466411918215  \n",
      "14  0.5858754362158225  \n",
      "15  0.5906781682601115  \n",
      "16  0.5940594978259867  \n",
      "17  0.6431177451391431  \n",
      "18  0.6450529608012587  \n",
      "19  0.6457162013454759  \n",
      "20  0.6486068335324051  \n",
      "21  0.6499785663239965  \n",
      "22  0.6506787737522219  \n",
      "23  0.6611527490256719  \n",
      "24  0.6619788531748063  \n",
      "25  0.6654116986223156  \n",
      "26  0.6728097497599246  \n",
      "27  0.6747520073743039  \n",
      "28  0.6747520073743055  \n",
      "29  0.6767584866583781  \n",
      "30  0.6794279016802731  \n",
      "31  0.6869352546368972  \n",
      "32  0.6892490551997769  \n",
      "33  0.6928809978038432  \n",
      "34  0.6928809978038432  \n",
      "35   0.696514948013381  \n",
      "36  0.6977683709229899  \n",
      "37  0.6990455169581326  \n",
      "38  0.7003460472005603  \n",
      "39  0.7016671407154101  \n",
      "40  0.7065238616979619  \n",
      "41  0.7092814797747413  \n",
      "42  0.7263483169261058  \n",
      "43  0.7263483169261058  \n",
      "44  0.7263483169261058  \n",
      "45  0.7475621179617055  \n",
      "46  0.7495904295327387  \n",
      "47  0.7495904295327387  \n",
      "48  0.7537832750142842  \n"
     ]
    },
    {
     "name": "stdout",
     "output_type": "stream",
     "text": [
      "49  0.7537832750142842  \n"
     ]
    }
   ],
   "source": [
    "# show grid search results\n",
    "gsearch.show()\n",
    "\n",
    "# select best model\n",
    "mlp_model = gsearch.get_grid()[0]"
   ]
  },
  {
   "cell_type": "code",
   "execution_count": 54,
   "metadata": {},
   "outputs": [
    {
     "name": "stdout",
     "output_type": "stream",
     "text": [
      "0.6898022376723639\n",
      "0.6827321992354999\n",
      "0.6906367158970282\n"
     ]
    }
   ],
   "source": [
    "# print train, valid, test AUC\n",
    "print(mlp_model.auc(valid=False))\n",
    "print(mlp_model.auc(valid=True))\n",
    "print(mlp_model.model_performance(e_test).auc())"
   ]
  },
  {
   "cell_type": "code",
   "execution_count": 55,
   "metadata": {},
   "outputs": [
    {
     "name": "stdout",
     "output_type": "stream",
     "text": [
      "PartialDependencePlot progress: |█████████████████████████████████████████| 100%\n"
     ]
    },
    {
     "data": {
      "image/png": "[encoded data removed]",
      "text/plain": [
       "<Figure size 504x720 with 1 Axes>"
      ]
     },
     "metadata": {},
     "output_type": "display_data"
    }
   ],
   "source": [
    "# print partial dependence\n",
    "_ = mlp_model.partial_plot(data=e_test, cols=[important_vars[0]], server=True, plot=True)"
   ]
  }
 ],
 "metadata": {
  "kernelspec": {
   "display_name": "Python 3",
   "language": "python",
   "name": "python3"
  },
  "language_info": {
   "codemirror_mode": {
    "name": "ipython",
    "version": 3
   },
   "file_extension": ".py",
   "mimetype": "text/x-python",
   "name": "python",
   "nbconvert_exporter": "python",
   "pygments_lexer": "ipython3",
   "version": "3.6.4"
  }
 },
 "nbformat": 4,
 "nbformat_minor": 2
}
